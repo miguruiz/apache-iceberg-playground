{
 "cells": [
  {
   "cell_type": "code",
   "execution_count": 15,
   "id": "5d95ad0b",
   "metadata": {},
   "outputs": [
    {
     "name": "stdout",
     "output_type": "stream",
     "text": [
      "Hello WOrld\n"
     ]
    },
    {
     "data": {
      "text/html": [
       "<style>pre { white-space: pre !important; }</style>"
      ],
      "text/plain": [
       "<IPython.core.display.HTML object>"
      ]
     },
     "metadata": {},
     "output_type": "display_data"
    }
   ],
   "source": [
    "print(\"Hello WOrld\")\n",
    "from IPython.core.display import HTML\n",
    "display(HTML(\"<style>pre { white-space: pre !important; }</style>\"))"
   ]
  },
  {
   "cell_type": "code",
   "execution_count": 2,
   "id": "10cdc9ef",
   "metadata": {
    "scrolled": true
   },
   "outputs": [
    {
     "name": "stdout",
     "output_type": "stream",
     "text": [
      ":: loading settings :: url = jar:file:/home/docker/.local/lib/python3.10/site-packages/pyspark/jars/ivy-2.5.0.jar!/org/apache/ivy/core/settings/ivysettings.xml\n"
     ]
    },
    {
     "name": "stderr",
     "output_type": "stream",
     "text": [
      "Ivy Default Cache set to: /home/docker/.ivy2/cache\n",
      "The jars for the packages stored in: /home/docker/.ivy2/jars\n",
      "org.apache.iceberg#iceberg-spark-runtime-3.3_2.12 added as a dependency\n",
      "org.projectnessie.nessie-integrations#nessie-spark-extensions-3.3_2.12 added as a dependency\n",
      "software.amazon.awssdk#bundle added as a dependency\n",
      "software.amazon.awssdk#url-connection-client added as a dependency\n",
      ":: resolving dependencies :: org.apache.spark#spark-submit-parent-2d8df7af-d6e3-4503-bc5c-e0c4703b0ce5;1.0\n",
      "\tconfs: [default]\n",
      "\tfound org.apache.iceberg#iceberg-spark-runtime-3.3_2.12;1.3.1 in central\n",
      "\tfound org.projectnessie.nessie-integrations#nessie-spark-extensions-3.3_2.12;0.67.0 in central\n",
      "\tfound software.amazon.awssdk#bundle;2.17.178 in central\n",
      "\tfound software.amazon.eventstream#eventstream;1.0.1 in central\n",
      "\tfound software.amazon.awssdk#url-connection-client;2.17.178 in central\n",
      "\tfound software.amazon.awssdk#utils;2.17.178 in central\n",
      "\tfound org.reactivestreams#reactive-streams;1.0.3 in central\n",
      "\tfound software.amazon.awssdk#annotations;2.17.178 in central\n",
      "\tfound org.slf4j#slf4j-api;1.7.30 in central\n",
      "\tfound software.amazon.awssdk#http-client-spi;2.17.178 in central\n",
      "\tfound software.amazon.awssdk#metrics-spi;2.17.178 in central\n",
      ":: resolution report :: resolve 3535ms :: artifacts dl 185ms\n",
      "\t:: modules in use:\n",
      "\torg.apache.iceberg#iceberg-spark-runtime-3.3_2.12;1.3.1 from central in [default]\n",
      "\torg.projectnessie.nessie-integrations#nessie-spark-extensions-3.3_2.12;0.67.0 from central in [default]\n",
      "\torg.reactivestreams#reactive-streams;1.0.3 from central in [default]\n",
      "\torg.slf4j#slf4j-api;1.7.30 from central in [default]\n",
      "\tsoftware.amazon.awssdk#annotations;2.17.178 from central in [default]\n",
      "\tsoftware.amazon.awssdk#bundle;2.17.178 from central in [default]\n",
      "\tsoftware.amazon.awssdk#http-client-spi;2.17.178 from central in [default]\n",
      "\tsoftware.amazon.awssdk#metrics-spi;2.17.178 from central in [default]\n",
      "\tsoftware.amazon.awssdk#url-connection-client;2.17.178 from central in [default]\n",
      "\tsoftware.amazon.awssdk#utils;2.17.178 from central in [default]\n",
      "\tsoftware.amazon.eventstream#eventstream;1.0.1 from central in [default]\n",
      "\t---------------------------------------------------------------------\n",
      "\t|                  |            modules            ||   artifacts   |\n",
      "\t|       conf       | number| search|dwnlded|evicted|| number|dwnlded|\n",
      "\t---------------------------------------------------------------------\n",
      "\t|      default     |   11  |   0   |   0   |   0   ||   11  |   0   |\n",
      "\t---------------------------------------------------------------------\n",
      ":: retrieving :: org.apache.spark#spark-submit-parent-2d8df7af-d6e3-4503-bc5c-e0c4703b0ce5\n",
      "\tconfs: [default]\n",
      "\t0 artifacts copied, 11 already retrieved (0kB/108ms)\n"
     ]
    },
    {
     "name": "stdout",
     "output_type": "stream",
     "text": [
      "23/11/29 15:04:24 WARN NativeCodeLoader: Unable to load native-hadoop library for your platform... using builtin-java classes where applicable\n"
     ]
    },
    {
     "name": "stderr",
     "output_type": "stream",
     "text": [
      "Setting default log level to \"WARN\".\n",
      "To adjust logging level use sc.setLogLevel(newLevel). For SparkR, use setLogLevel(newLevel).\n"
     ]
    },
    {
     "name": "stdout",
     "output_type": "stream",
     "text": [
      "Spark Running\n"
     ]
    }
   ],
   "source": [
    "import pyspark\n",
    "import pyspark\n",
    "from pyspark.sql import SparkSession\n",
    "import os\n",
    "\n",
    "## DEFINE SENSITIVE VARIABLES\n",
    "NESSIE_URI = \"http://nessie:19120/api/v1\"\n",
    "MINIO_ACCESS_KEY = \"admin\"\n",
    "MINIO_SECRET_KEY = \"password\"\n",
    "\n",
    "\n",
    "\n",
    "conf = (\n",
    "    pyspark.SparkConf()\n",
    "        .setAppName('app_name')\n",
    "  \t\t#packages\n",
    "        .set('spark.jars.packages', 'org.apache.iceberg:iceberg-spark-runtime-3.3_2.12:1.3.1,org.projectnessie.nessie-integrations:nessie-spark-extensions-3.3_2.12:0.67.0,software.amazon.awssdk:bundle:2.17.178,software.amazon.awssdk:url-connection-client:2.17.178')\n",
    "  \t\t#SQL Extensions\n",
    "        .set('spark.sql.extensions', 'org.apache.iceberg.spark.extensions.IcebergSparkSessionExtensions') #org.projectnessie.spark.extensions.NessieSparkSessionExtensions\n",
    "  \t\t#Configuring Catalog set to local\n",
    "        .set('spark.sql.catalog.spark_catalog', 'org.apache.iceberg.spark.SparkSessionCatalog')\n",
    "        .set('spark.sql.catalog.spark_catalog.type', 'hive')    \n",
    "        .set('spark.sql.catalog.local', 'org.apache.iceberg.spark.SparkCatalog')\n",
    "        .set('spark.sql.catalog.local.type', 'hadoop')\n",
    "        .set('spark.sql.catalog.local.warehouse', '/home/docker/catalog')\n",
    ")\n",
    "\n",
    "\n",
    "spark = SparkSession.builder.config(conf=conf).getOrCreate()\n",
    "print(\"Spark Running\")"
   ]
  },
  {
   "cell_type": "markdown",
   "id": "da82067f",
   "metadata": {},
   "source": [
    "## Experiment One\n",
    "Read two years and update the table with Merge, if there is a collision we want to overwrite the column, but there are no collisions.\n",
    "\n",
    "The expected result is that the final table have all columns from both years.\n",
    "\n",
    "There is no schema change"
   ]
  },
  {
   "cell_type": "code",
   "execution_count": 3,
   "id": "f6a9b412",
   "metadata": {},
   "outputs": [
    {
     "name": "stderr",
     "output_type": "stream",
     "text": [
      "                                                                                \r"
     ]
    },
    {
     "name": "stdout",
     "output_type": "stream",
     "text": [
      "+--------+\n",
      "|count(1)|\n",
      "+--------+\n",
      "|       9|\n",
      "+--------+\n",
      "\n"
     ]
    },
    {
     "name": "stderr",
     "output_type": "stream",
     "text": [
      "                                                                                \r"
     ]
    },
    {
     "name": "stdout",
     "output_type": "stream",
     "text": [
      "+------------+---------------+---------+--------+------+------+-------------------+-------------------+--------+-------------+-----------+--------------------+---+------+------+-----------+------------+--------+----+\n",
      "|competitorId| competitorName|firstName|lastName|status|gender|countryOfOriginCode|countryOfOriginName|regionId|   regionName|affiliateId|       affiliateName|age|height|weight|overallRank|overallScore|genderId|year|\n",
      "+------------+---------------+---------+--------+------+------+-------------------+-------------------+--------+-------------+-----------+--------------------+---+------+------+-----------+------------+--------+----+\n",
      "|      310970|  Saxon Panchik|    Saxon| Panchik|   ACT|     M|                 US|      United States|      31|North America|      19593|CrossFit East Nas...| 26| 69 in|180 lb|          1|          25|       1|2022|\n",
      "|     1454081|    Matt Poulin|     Matt|  Poulin|   ACT|     M|                 US|      United States|      31|North America|       1526|   CrossFit Complete| 26| 70 in|195 lb|          2|          28|       1|2022|\n",
      "|      811708|Justin Medeiros|   Justin|Medeiros|   ACT|     M|                 US|      United States|      31|North America|       1792|CrossFit Fort Van...| 23| 68 in|190 lb|          3|          31|       1|2022|\n",
      "|      676693| Colten Mertens|   Colten| Mertens|   ACT|     M|                 US|      United States|      31|North America|       1324|       CrossFit Kilo| 24| 64 in|185 lb|          4|          35|       1|2022|\n",
      "|      879211|      Phil Toon|     Phil|    Toon|   ACT|     M|                 US|      United States|      31|North America|       1893|     CrossFit Naples| 24| 70 in|195 lb|          5|          38|       1|2022|\n",
      "|      935580|Victor Ljungdal|   Victor|Ljungdal|   ACT|     M|                 SE|             Sweden|      29|       Europe|      26251|Mölndal SuperB Cr...| 26|172 cm| 85 kg|          6|          46|       1|2022|\n",
      "|      156156|     Jay Crouch|      Jay|  Crouch|   ACT|     M|                 AU|          Australia|      32|      Oceania|       1348|Reebok CrossFit F...| 23|175 cm| 85 kg|          7|          53|       1|2022|\n",
      "|      534247|   Scott Tetlow|    Scott|  Tetlow|   ACT|     M|                 US|      United States|      31|North America|       1313|Finish Strong Cro...| 29| 63 in|175 lb|          8|          72|       1|2022|\n",
      "|      493511|Cédric Lapointe|   Cédric|Lapointe|   ACT|     M|                 CA|             Canada|      31|North America|      10570|        CrossFit 819| 25| 69 in|187 lb|          9|          85|       1|2022|\n",
      "+------------+---------------+---------+--------+------+------+-------------------+-------------------+--------+-------------+-----------+--------------------+---+------+------+-----------+------------+--------+----+\n",
      "\n"
     ]
    }
   ],
   "source": [
    "\n",
    "## LOAD A CSV INTO AN SQL VIEW\n",
    "csv_df = spark.read.format(\"csv\").option(\"header\", \"true\").load(\"../datasets/experiment1/df_open_2022_small.csv\")\n",
    "csv_df.createOrReplaceTempView(\"csv_open_2022\")\n",
    "\n",
    "## CREATE AN ICEBERG TABLE FROM THE SQL VIEW\n",
    "spark.sql(\"CREATE TABLE IF NOT EXISTS local.db.experiment1 USING iceberg AS SELECT * FROM csv_open_2022\")\n",
    "\n",
    "## QUERY THE ICEBERG TABLE\n",
    "spark.sql(\"SELECT count(*) FROM local.db.experiment1\").show()\n",
    "spark.sql(\"SELECT * FROM local.db.experiment1\").show()"
   ]
  },
  {
   "cell_type": "code",
   "execution_count": 8,
   "id": "c14ee36f",
   "metadata": {},
   "outputs": [
    {
     "name": "stderr",
     "output_type": "stream",
     "text": [
      "                                                                                \r"
     ]
    },
    {
     "name": "stdout",
     "output_type": "stream",
     "text": [
      "+--------+\n",
      "|count(1)|\n",
      "+--------+\n",
      "|      17|\n",
      "+--------+\n",
      "\n"
     ]
    },
    {
     "name": "stderr",
     "output_type": "stream",
     "text": [
      "\r",
      "[Stage 53:>                                                         (0 + 1) / 1]\r",
      "\r",
      "                                                                                \r"
     ]
    },
    {
     "name": "stdout",
     "output_type": "stream",
     "text": [
      "+------------+-----------------+---------+-----------+------+------+-------------------+-------------------+--------+------------------+-----------+--------------------+---+------+------+-----------+------------+--------+----+\n",
      "|competitorId|   competitorName|firstName|   lastName|status|gender|countryOfOriginCode|countryOfOriginName|regionId|        regionName|affiliateId|       affiliateName|age|height|weight|overallRank|overallScore|genderId|year|\n",
      "+------------+-----------------+---------+-----------+------+------+-------------------+-------------------+--------+------------------+-----------+--------------------+---+------+------+-----------+------------+--------+----+\n",
      "|     1031875|  Roldan Goldbaum|   Roldan|   Goldbaum|   ACT|     M|                 MX|             Mexico|      34|North America West|      21264|Strong Suit CrossFit| 23|170 cm| 86 kg|          5|         526|       1|2023|\n",
      "|     1454081|      Matt Poulin|     Matt|     Poulin|   ACT|     M|                 US|      United States|      31|     North America|       1526|   CrossFit Complete| 26| 70 in|195 lb|          2|          28|       1|2022|\n",
      "|      156156|       Jay Crouch|      Jay|     Crouch|   ACT|     M|                 AU|          Australia|      32|           Oceania|       1348|Reebok CrossFit F...| 23|175 cm| 85 kg|          7|          53|       1|2022|\n",
      "|      300638|   Tola Morakinyo|     Tola|  Morakinyo|   ACT|     M|                 US|      United States|      35|North America East|      19593|CrossFit East Nas...| 27| 72 in|212 lb|          2|         219|       1|2023|\n",
      "|      310970|    Saxon Panchik|    Saxon|    Panchik|   ACT|     M|                 US|      United States|      31|     North America|      19593|CrossFit East Nas...| 26| 69 in|180 lb|          1|          25|       1|2022|\n",
      "|      327636| Samuel Cournoyer|   Samuel|  Cournoyer|   ACT|     M|                 CA|             Canada|      35|North America East|      28908|CrossFit ADM Chambly| 27|180 cm|205 lb|          6|         619|       1|2023|\n",
      "|       40955|     Ricky Garard|    Ricky|     Garard|   ACT|     M|                 AU|          Australia|      32|           Oceania|       9286|Fitness Alley Cro...| 29|179 cm|205 lb|          7|         633|       1|2023|\n",
      "|      469656|    Jeffrey Adler|  Jeffrey|      Adler|   ACT|     M|                 CA|             Canada|      35|North America East|      18059| CrossFit Wonderland| 29| 69 in|197 lb|          1|         107|       1|2023|\n",
      "|      493511|  Cédric Lapointe|   Cédric|   Lapointe|   ACT|     M|                 CA|             Canada|      31|     North America|      10570|        CrossFit 819| 25| 69 in|187 lb|          9|          85|       1|2022|\n",
      "|      534247|     Scott Tetlow|    Scott|     Tetlow|   ACT|     M|                 US|      United States|      31|     North America|       1313|Finish Strong Cro...| 29| 63 in|175 lb|          8|          72|       1|2022|\n",
      "|      663689|Tyler Christophel|    Tyler|Christophel|   ACT|     M|                 US|      United States|      35|North America East|       3220|     CrossFit Mayhem| 33| 70 in|195 lb|          4|         375|       1|2023|\n",
      "|      671093|    Dallin Pepper|   Dallin|     Pepper|   ACT|     M|                 US|      United States|      35|North America East|       1893|     CrossFit Naples| 21| 72 in|215 lb|          8|         656|       1|2023|\n",
      "|      676693|   Colten Mertens|   Colten|    Mertens|   ACT|     M|                 US|      United States|      34|North America West|       1324|       CrossFit Kilo| 25| 64 in|180 lb|          3|         367|       1|2023|\n",
      "|      811708|  Justin Medeiros|   Justin|   Medeiros|   ACT|     M|                 US|      United States|      31|     North America|       1792|CrossFit Fort Van...| 23| 68 in|190 lb|          3|          31|       1|2022|\n",
      "|      879211|        Phil Toon|     Phil|       Toon|   ACT|     M|                 US|      United States|      31|     North America|       1893|     CrossFit Naples| 24| 70 in|195 lb|          5|          38|       1|2022|\n",
      "|      935580|  Victor Ljungdal|   Victor|   Ljungdal|   ACT|     M|                 SE|             Sweden|      29|            Europe|      26251|Mölndal SuperB Cr...| 26|172 cm| 85 kg|          6|          46|       1|2022|\n",
      "|      945268|      Reggie Fasa|   Reggie|       Fasa|   ACT|     M|                 GB|     United Kingdom|      29|            Europe|      16754|CrossFit Chester ...| 28|174 cm| 93 kg|          9|         668|       1|2023|\n",
      "+------------+-----------------+---------+-----------+------+------+-------------------+-------------------+--------+------------------+-----------+--------------------+---+------+------+-----------+------------+--------+----+\n",
      "\n"
     ]
    }
   ],
   "source": [
    "# READ DATA FOR 2023\n",
    "csv_df_2023 = spark.read.format(\"csv\").option(\"header\", \"true\").load(\"../datasets/experiment1/df_open_2023_small.csv\")\n",
    "csv_df_2023.createOrReplaceTempView(\"csv_open_2023\")\n",
    "\n",
    "# PERFORM MERGE ON THE TABLE\n",
    "spark.sql(\"\"\"\n",
    "MERGE INTO local.db.experiment1 t USING (SELECT * FROM csv_open_2023) u ON t.competitorId = u.competitorId\n",
    "WHEN MATCHED THEN UPDATE SET *\n",
    "WHEN NOT MATCHED THEN INSERT *\"\"\")\n",
    "\n",
    "# INSPECT THE TABLE AFTER\n",
    "spark.sql(\"SELECT count(*) FROM local.db.experiment1\").show()\n",
    "spark.sql(\"SELECT * FROM local.db.experiment1\").show()"
   ]
  },
  {
   "cell_type": "markdown",
   "id": "54a58b5b",
   "metadata": {},
   "source": [
    "## Experiment TWO\n",
    "\n",
    "The same as before, but 2023 has an additional column.\n",
    "\n",
    "Lets see how Apache Iceberg handles the schema evolution"
   ]
  },
  {
   "cell_type": "code",
   "execution_count": 9,
   "id": "d205f5c5",
   "metadata": {},
   "outputs": [
    {
     "name": "stderr",
     "output_type": "stream",
     "text": [
      "                                                                                \r"
     ]
    },
    {
     "name": "stdout",
     "output_type": "stream",
     "text": [
      "+--------+\n",
      "|count(1)|\n",
      "+--------+\n",
      "|       9|\n",
      "+--------+\n",
      "\n",
      "+------------+---------------+---------+--------+------+------+-------------------+-------------------+--------+-------------+-----------+--------------------+---+------+------+-----------+------------+--------+----+\n",
      "|competitorId| competitorName|firstName|lastName|status|gender|countryOfOriginCode|countryOfOriginName|regionId|   regionName|affiliateId|       affiliateName|age|height|weight|overallRank|overallScore|genderId|year|\n",
      "+------------+---------------+---------+--------+------+------+-------------------+-------------------+--------+-------------+-----------+--------------------+---+------+------+-----------+------------+--------+----+\n",
      "|      310970|  Saxon Panchik|    Saxon| Panchik|   ACT|     M|                 US|      United States|      31|North America|      19593|CrossFit East Nas...| 26| 69 in|180 lb|          1|          25|       1|2022|\n",
      "|     1454081|    Matt Poulin|     Matt|  Poulin|   ACT|     M|                 US|      United States|      31|North America|       1526|   CrossFit Complete| 26| 70 in|195 lb|          2|          28|       1|2022|\n",
      "|      811708|Justin Medeiros|   Justin|Medeiros|   ACT|     M|                 US|      United States|      31|North America|       1792|CrossFit Fort Van...| 23| 68 in|190 lb|          3|          31|       1|2022|\n",
      "|      676693| Colten Mertens|   Colten| Mertens|   ACT|     M|                 US|      United States|      31|North America|       1324|       CrossFit Kilo| 24| 64 in|185 lb|          4|          35|       1|2022|\n",
      "|      879211|      Phil Toon|     Phil|    Toon|   ACT|     M|                 US|      United States|      31|North America|       1893|     CrossFit Naples| 24| 70 in|195 lb|          5|          38|       1|2022|\n",
      "|      935580|Victor Ljungdal|   Victor|Ljungdal|   ACT|     M|                 SE|             Sweden|      29|       Europe|      26251|Mölndal SuperB Cr...| 26|172 cm| 85 kg|          6|          46|       1|2022|\n",
      "|      156156|     Jay Crouch|      Jay|  Crouch|   ACT|     M|                 AU|          Australia|      32|      Oceania|       1348|Reebok CrossFit F...| 23|175 cm| 85 kg|          7|          53|       1|2022|\n",
      "|      534247|   Scott Tetlow|    Scott|  Tetlow|   ACT|     M|                 US|      United States|      31|North America|       1313|Finish Strong Cro...| 29| 63 in|175 lb|          8|          72|       1|2022|\n",
      "|      493511|Cédric Lapointe|   Cédric|Lapointe|   ACT|     M|                 CA|             Canada|      31|North America|      10570|        CrossFit 819| 25| 69 in|187 lb|          9|          85|       1|2022|\n",
      "+------------+---------------+---------+--------+------+------+-------------------+-------------------+--------+-------------+-----------+--------------------+---+------+------+-----------+------------+--------+----+\n",
      "\n",
      "+-------------------+---------+-------+\n",
      "|           col_name|data_type|comment|\n",
      "+-------------------+---------+-------+\n",
      "|       competitorId|   string|       |\n",
      "|     competitorName|   string|       |\n",
      "|          firstName|   string|       |\n",
      "|           lastName|   string|       |\n",
      "|             status|   string|       |\n",
      "|             gender|   string|       |\n",
      "|countryOfOriginCode|   string|       |\n",
      "|countryOfOriginName|   string|       |\n",
      "|           regionId|   string|       |\n",
      "|         regionName|   string|       |\n",
      "|        affiliateId|   string|       |\n",
      "|      affiliateName|   string|       |\n",
      "|                age|   string|       |\n",
      "|             height|   string|       |\n",
      "|             weight|   string|       |\n",
      "|        overallRank|   string|       |\n",
      "|       overallScore|   string|       |\n",
      "|           genderId|   string|       |\n",
      "|               year|   string|       |\n",
      "|                   |         |       |\n",
      "+-------------------+---------+-------+\n",
      "only showing top 20 rows\n",
      "\n"
     ]
    }
   ],
   "source": [
    "## LOAD A CSV INTO AN SQL VIEW\n",
    "csv_df_e2_2022 = spark.read.format(\"csv\").option(\"header\", \"true\").load(\"../datasets/experiment2/df_open_2022_small.csv\")\n",
    "csv_df_e2_2022.createOrReplaceTempView(\"csv_open_2022_experiment_2\")\n",
    "\n",
    "## CREATE AN ICEBERG TABLE FROM THE SQL VIEW\n",
    "spark.sql(\"CREATE TABLE IF NOT EXISTS local.db.experiment2 USING iceberg AS SELECT * FROM csv_open_2022_experiment_2\")\n",
    "\n",
    "## QUERY THE ICEBERG TABLE\n",
    "spark.sql(\"SELECT count(*) FROM local.db.experiment2\").show()\n",
    "spark.sql(\"SELECT * FROM local.db.experiment2\").show()\n",
    "spark.sql(\"DESCRIBE local.db.experiment2\").show()"
   ]
  },
  {
   "cell_type": "code",
   "execution_count": 11,
   "id": "7425fc83",
   "metadata": {},
   "outputs": [
    {
     "name": "stdout",
     "output_type": "stream",
     "text": [
      "+------------+-----------------+---------+-----------+------+------+-------------------+-------------------+--------+------------------+-----------+--------------------+---+------+------+-----------+------------+--------+----+--------------------+\n",
      "|competitorId|   competitorName|firstName|   lastName|status|gender|countryOfOriginCode|countryOfOriginName|regionId|        regionName|affiliateId|       affiliateName|age|height|weight|overallRank|overallScore|genderId|year|          aNewColumn|\n",
      "+------------+-----------------+---------+-----------+------+------+-------------------+-------------------+--------+------------------+-----------+--------------------+---+------+------+-----------+------------+--------+----+--------------------+\n",
      "|      469656|    Jeffrey Adler|  Jeffrey|      Adler|   ACT|     M|                 CA|             Canada|      35|North America East|      18059| CrossFit Wonderland| 29| 69 in|197 lb|          1|         107|       1|2023|thisIsANewColumn_...|\n",
      "|      300638|   Tola Morakinyo|     Tola|  Morakinyo|   ACT|     M|                 US|      United States|      35|North America East|      19593|CrossFit East Nas...| 27| 72 in|212 lb|          2|         219|       1|2023|thisIsANewColumn_...|\n",
      "|      676693|   Colten Mertens|   Colten|    Mertens|   ACT|     M|                 US|      United States|      34|North America West|       1324|       CrossFit Kilo| 25| 64 in|180 lb|          3|         367|       1|2023|thisIsANewColumn_...|\n",
      "|      663689|Tyler Christophel|    Tyler|Christophel|   ACT|     M|                 US|      United States|      35|North America East|       3220|     CrossFit Mayhem| 33| 70 in|195 lb|          4|         375|       1|2023|thisIsANewColumn_...|\n",
      "|     1031875|  Roldan Goldbaum|   Roldan|   Goldbaum|   ACT|     M|                 MX|             Mexico|      34|North America West|      21264|Strong Suit CrossFit| 23|170 cm| 86 kg|          5|         526|       1|2023|thisIsANewColumn_...|\n",
      "|      327636| Samuel Cournoyer|   Samuel|  Cournoyer|   ACT|     M|                 CA|             Canada|      35|North America East|      28908|CrossFit ADM Chambly| 27|180 cm|205 lb|          6|         619|       1|2023|thisIsANewColumn_...|\n",
      "|       40955|     Ricky Garard|    Ricky|     Garard|   ACT|     M|                 AU|          Australia|      32|           Oceania|       9286|Fitness Alley Cro...| 29|179 cm|205 lb|          7|         633|       1|2023|thisIsANewColumn_...|\n",
      "|      671093|    Dallin Pepper|   Dallin|     Pepper|   ACT|     M|                 US|      United States|      35|North America East|       1893|     CrossFit Naples| 21| 72 in|215 lb|          8|         656|       1|2023|thisIsANewColumn_...|\n",
      "|      945268|      Reggie Fasa|   Reggie|       Fasa|   ACT|     M|                 GB|     United Kingdom|      29|            Europe|      16754|CrossFit Chester ...| 28|174 cm| 93 kg|          9|         668|       1|2023|thisIsANewColumn_...|\n",
      "+------------+-----------------+---------+-----------+------+------+-------------------+-------------------+--------+------------------+-----------+--------------------+---+------+------+-----------+------------+--------+----+--------------------+\n",
      "\n"
     ]
    },
    {
     "name": "stderr",
     "output_type": "stream",
     "text": [
      "                                                                                \r"
     ]
    },
    {
     "name": "stdout",
     "output_type": "stream",
     "text": [
      "+--------+\n",
      "|count(1)|\n",
      "+--------+\n",
      "|      17|\n",
      "+--------+\n",
      "\n"
     ]
    },
    {
     "name": "stderr",
     "output_type": "stream",
     "text": [
      "                                                                                \r"
     ]
    },
    {
     "name": "stdout",
     "output_type": "stream",
     "text": [
      "+------------+-----------------+---------+-----------+------+------+-------------------+-------------------+--------+------------------+-----------+--------------------+---+------+------+-----------+------------+--------+----+\n",
      "|competitorId|   competitorName|firstName|   lastName|status|gender|countryOfOriginCode|countryOfOriginName|regionId|        regionName|affiliateId|       affiliateName|age|height|weight|overallRank|overallScore|genderId|year|\n",
      "+------------+-----------------+---------+-----------+------+------+-------------------+-------------------+--------+------------------+-----------+--------------------+---+------+------+-----------+------------+--------+----+\n",
      "|     1031875|  Roldan Goldbaum|   Roldan|   Goldbaum|   ACT|     M|                 MX|             Mexico|      34|North America West|      21264|Strong Suit CrossFit| 23|170 cm| 86 kg|          5|         526|       1|2023|\n",
      "|     1454081|      Matt Poulin|     Matt|     Poulin|   ACT|     M|                 US|      United States|      31|     North America|       1526|   CrossFit Complete| 26| 70 in|195 lb|          2|          28|       1|2022|\n",
      "|      156156|       Jay Crouch|      Jay|     Crouch|   ACT|     M|                 AU|          Australia|      32|           Oceania|       1348|Reebok CrossFit F...| 23|175 cm| 85 kg|          7|          53|       1|2022|\n",
      "|      300638|   Tola Morakinyo|     Tola|  Morakinyo|   ACT|     M|                 US|      United States|      35|North America East|      19593|CrossFit East Nas...| 27| 72 in|212 lb|          2|         219|       1|2023|\n",
      "|      310970|    Saxon Panchik|    Saxon|    Panchik|   ACT|     M|                 US|      United States|      31|     North America|      19593|CrossFit East Nas...| 26| 69 in|180 lb|          1|          25|       1|2022|\n",
      "|      327636| Samuel Cournoyer|   Samuel|  Cournoyer|   ACT|     M|                 CA|             Canada|      35|North America East|      28908|CrossFit ADM Chambly| 27|180 cm|205 lb|          6|         619|       1|2023|\n",
      "|       40955|     Ricky Garard|    Ricky|     Garard|   ACT|     M|                 AU|          Australia|      32|           Oceania|       9286|Fitness Alley Cro...| 29|179 cm|205 lb|          7|         633|       1|2023|\n",
      "|      469656|    Jeffrey Adler|  Jeffrey|      Adler|   ACT|     M|                 CA|             Canada|      35|North America East|      18059| CrossFit Wonderland| 29| 69 in|197 lb|          1|         107|       1|2023|\n",
      "|      493511|  Cédric Lapointe|   Cédric|   Lapointe|   ACT|     M|                 CA|             Canada|      31|     North America|      10570|        CrossFit 819| 25| 69 in|187 lb|          9|          85|       1|2022|\n",
      "|      534247|     Scott Tetlow|    Scott|     Tetlow|   ACT|     M|                 US|      United States|      31|     North America|       1313|Finish Strong Cro...| 29| 63 in|175 lb|          8|          72|       1|2022|\n",
      "|      663689|Tyler Christophel|    Tyler|Christophel|   ACT|     M|                 US|      United States|      35|North America East|       3220|     CrossFit Mayhem| 33| 70 in|195 lb|          4|         375|       1|2023|\n",
      "|      671093|    Dallin Pepper|   Dallin|     Pepper|   ACT|     M|                 US|      United States|      35|North America East|       1893|     CrossFit Naples| 21| 72 in|215 lb|          8|         656|       1|2023|\n",
      "|      676693|   Colten Mertens|   Colten|    Mertens|   ACT|     M|                 US|      United States|      34|North America West|       1324|       CrossFit Kilo| 25| 64 in|180 lb|          3|         367|       1|2023|\n",
      "|      811708|  Justin Medeiros|   Justin|   Medeiros|   ACT|     M|                 US|      United States|      31|     North America|       1792|CrossFit Fort Van...| 23| 68 in|190 lb|          3|          31|       1|2022|\n",
      "|      879211|        Phil Toon|     Phil|       Toon|   ACT|     M|                 US|      United States|      31|     North America|       1893|     CrossFit Naples| 24| 70 in|195 lb|          5|          38|       1|2022|\n",
      "|      935580|  Victor Ljungdal|   Victor|   Ljungdal|   ACT|     M|                 SE|             Sweden|      29|            Europe|      26251|Mölndal SuperB Cr...| 26|172 cm| 85 kg|          6|          46|       1|2022|\n",
      "|      945268|      Reggie Fasa|   Reggie|       Fasa|   ACT|     M|                 GB|     United Kingdom|      29|            Europe|      16754|CrossFit Chester ...| 28|174 cm| 93 kg|          9|         668|       1|2023|\n",
      "+------------+-----------------+---------+-----------+------+------+-------------------+-------------------+--------+------------------+-----------+--------------------+---+------+------+-----------+------------+--------+----+\n",
      "\n",
      "+-------------------+---------+-------+\n",
      "|           col_name|data_type|comment|\n",
      "+-------------------+---------+-------+\n",
      "|       competitorId|   string|       |\n",
      "|     competitorName|   string|       |\n",
      "|          firstName|   string|       |\n",
      "|           lastName|   string|       |\n",
      "|             status|   string|       |\n",
      "|             gender|   string|       |\n",
      "|countryOfOriginCode|   string|       |\n",
      "|countryOfOriginName|   string|       |\n",
      "|           regionId|   string|       |\n",
      "|         regionName|   string|       |\n",
      "|        affiliateId|   string|       |\n",
      "|      affiliateName|   string|       |\n",
      "|                age|   string|       |\n",
      "|             height|   string|       |\n",
      "|             weight|   string|       |\n",
      "|        overallRank|   string|       |\n",
      "|       overallScore|   string|       |\n",
      "|           genderId|   string|       |\n",
      "|               year|   string|       |\n",
      "|                   |         |       |\n",
      "+-------------------+---------+-------+\n",
      "only showing top 20 rows\n",
      "\n"
     ]
    }
   ],
   "source": [
    "# READ DATA FOR 2023\n",
    "csv_df_e2_2023 = spark.read.format(\"csv\").option(\"header\", \"true\").load(\"../datasets/experiment2/df_open_2023_small_new_col.csv\")\n",
    "csv_df_e2_2023.show()\n",
    "csv_df_e2_2023.createOrReplaceTempView(\"csv_open_2023_experiment2\")\n",
    "\n",
    "# PERFORM MERGE ON THE TABLE\n",
    "spark.sql(\"\"\"\n",
    "MERGE INTO local.db.experiment2 t USING (SELECT * FROM csv_open_2023_experiment2) u ON t.competitorId = u.competitorId\n",
    "WHEN MATCHED THEN UPDATE SET *\n",
    "WHEN NOT MATCHED THEN INSERT *\"\"\")\n",
    "\n",
    "## QUERY THE ICEBERG TABLE\n",
    "spark.sql(\"SELECT count(*) FROM local.db.experiment2\").show()\n",
    "spark.sql(\"SELECT * FROM local.db.experiment2\").show()\n",
    "spark.sql(\"DESCRIBE local.db.experiment2\").show()"
   ]
  },
  {
   "cell_type": "markdown",
   "id": "25fc5922",
   "metadata": {},
   "source": [
    "The new column gets ignored. \n",
    "\n",
    "Lets try doing an alter in the table"
   ]
  },
  {
   "cell_type": "code",
   "execution_count": 12,
   "id": "0b711e0e",
   "metadata": {},
   "outputs": [
    {
     "name": "stdout",
     "output_type": "stream",
     "text": [
      "23/11/29 15:24:11 WARN BaseTransaction: Failed to load metadata for a committed snapshot, skipping clean-up\n"
     ]
    },
    {
     "name": "stderr",
     "output_type": "stream",
     "text": [
      "                                                                                \r"
     ]
    },
    {
     "name": "stdout",
     "output_type": "stream",
     "text": [
      "+--------+\n",
      "|count(1)|\n",
      "+--------+\n",
      "|      17|\n",
      "+--------+\n",
      "\n",
      "+------------+-----------------+---------+-----------+------+------+-------------------+-------------------+--------+------------------+-----------+--------------------+---+------+------+-----------+------------+--------+----+--------------------+\n",
      "|competitorId|   competitorName|firstName|   lastName|status|gender|countryOfOriginCode|countryOfOriginName|regionId|        regionName|affiliateId|       affiliateName|age|height|weight|overallRank|overallScore|genderId|year|          aNewColumn|\n",
      "+------------+-----------------+---------+-----------+------+------+-------------------+-------------------+--------+------------------+-----------+--------------------+---+------+------+-----------+------------+--------+----+--------------------+\n",
      "|     1031875|  Roldan Goldbaum|   Roldan|   Goldbaum|   ACT|     M|                 MX|             Mexico|      34|North America West|      21264|Strong Suit CrossFit| 23|170 cm| 86 kg|          5|         526|       1|2023|thisIsANewColumn_...|\n",
      "|     1454081|      Matt Poulin|     Matt|     Poulin|   ACT|     M|                 US|      United States|      31|     North America|       1526|   CrossFit Complete| 26| 70 in|195 lb|          2|          28|       1|2022|                null|\n",
      "|      156156|       Jay Crouch|      Jay|     Crouch|   ACT|     M|                 AU|          Australia|      32|           Oceania|       1348|Reebok CrossFit F...| 23|175 cm| 85 kg|          7|          53|       1|2022|                null|\n",
      "|      300638|   Tola Morakinyo|     Tola|  Morakinyo|   ACT|     M|                 US|      United States|      35|North America East|      19593|CrossFit East Nas...| 27| 72 in|212 lb|          2|         219|       1|2023|thisIsANewColumn_...|\n",
      "|      310970|    Saxon Panchik|    Saxon|    Panchik|   ACT|     M|                 US|      United States|      31|     North America|      19593|CrossFit East Nas...| 26| 69 in|180 lb|          1|          25|       1|2022|                null|\n",
      "|      327636| Samuel Cournoyer|   Samuel|  Cournoyer|   ACT|     M|                 CA|             Canada|      35|North America East|      28908|CrossFit ADM Chambly| 27|180 cm|205 lb|          6|         619|       1|2023|thisIsANewColumn_...|\n",
      "|       40955|     Ricky Garard|    Ricky|     Garard|   ACT|     M|                 AU|          Australia|      32|           Oceania|       9286|Fitness Alley Cro...| 29|179 cm|205 lb|          7|         633|       1|2023|thisIsANewColumn_...|\n",
      "|      469656|    Jeffrey Adler|  Jeffrey|      Adler|   ACT|     M|                 CA|             Canada|      35|North America East|      18059| CrossFit Wonderland| 29| 69 in|197 lb|          1|         107|       1|2023|thisIsANewColumn_...|\n",
      "|      493511|  Cédric Lapointe|   Cédric|   Lapointe|   ACT|     M|                 CA|             Canada|      31|     North America|      10570|        CrossFit 819| 25| 69 in|187 lb|          9|          85|       1|2022|                null|\n",
      "|      534247|     Scott Tetlow|    Scott|     Tetlow|   ACT|     M|                 US|      United States|      31|     North America|       1313|Finish Strong Cro...| 29| 63 in|175 lb|          8|          72|       1|2022|                null|\n",
      "|      663689|Tyler Christophel|    Tyler|Christophel|   ACT|     M|                 US|      United States|      35|North America East|       3220|     CrossFit Mayhem| 33| 70 in|195 lb|          4|         375|       1|2023|thisIsANewColumn_...|\n",
      "|      671093|    Dallin Pepper|   Dallin|     Pepper|   ACT|     M|                 US|      United States|      35|North America East|       1893|     CrossFit Naples| 21| 72 in|215 lb|          8|         656|       1|2023|thisIsANewColumn_...|\n",
      "|      676693|   Colten Mertens|   Colten|    Mertens|   ACT|     M|                 US|      United States|      34|North America West|       1324|       CrossFit Kilo| 25| 64 in|180 lb|          3|         367|       1|2023|thisIsANewColumn_...|\n",
      "|      811708|  Justin Medeiros|   Justin|   Medeiros|   ACT|     M|                 US|      United States|      31|     North America|       1792|CrossFit Fort Van...| 23| 68 in|190 lb|          3|          31|       1|2022|                null|\n",
      "|      879211|        Phil Toon|     Phil|       Toon|   ACT|     M|                 US|      United States|      31|     North America|       1893|     CrossFit Naples| 24| 70 in|195 lb|          5|          38|       1|2022|                null|\n",
      "|      935580|  Victor Ljungdal|   Victor|   Ljungdal|   ACT|     M|                 SE|             Sweden|      29|            Europe|      26251|Mölndal SuperB Cr...| 26|172 cm| 85 kg|          6|          46|       1|2022|                null|\n",
      "|      945268|      Reggie Fasa|   Reggie|       Fasa|   ACT|     M|                 GB|     United Kingdom|      29|            Europe|      16754|CrossFit Chester ...| 28|174 cm| 93 kg|          9|         668|       1|2023|thisIsANewColumn_...|\n",
      "+------------+-----------------+---------+-----------+------+------+-------------------+-------------------+--------+------------------+-----------+--------------------+---+------+------+-----------+------------+--------+----+--------------------+\n",
      "\n",
      "+-------------------+---------+---------------+\n",
      "|           col_name|data_type|        comment|\n",
      "+-------------------+---------+---------------+\n",
      "|       competitorId|   string|               |\n",
      "|     competitorName|   string|               |\n",
      "|          firstName|   string|               |\n",
      "|           lastName|   string|               |\n",
      "|             status|   string|               |\n",
      "|             gender|   string|               |\n",
      "|countryOfOriginCode|   string|               |\n",
      "|countryOfOriginName|   string|               |\n",
      "|           regionId|   string|               |\n",
      "|         regionName|   string|               |\n",
      "|        affiliateId|   string|               |\n",
      "|      affiliateName|   string|               |\n",
      "|                age|   string|               |\n",
      "|             height|   string|               |\n",
      "|             weight|   string|               |\n",
      "|        overallRank|   string|               |\n",
      "|       overallScore|   string|               |\n",
      "|           genderId|   string|               |\n",
      "|               year|   string|               |\n",
      "|         aNewColumn|   string|new_column docs|\n",
      "+-------------------+---------+---------------+\n",
      "only showing top 20 rows\n",
      "\n"
     ]
    }
   ],
   "source": [
    "spark.sql(\"\"\"\n",
    "ALTER TABLE local.db.experiment2\n",
    "ADD COLUMNS (\n",
    "    aNewColumn string comment 'new_column docs'\n",
    "  )\"\"\")\n",
    "\n",
    "# PERFORM MERGE ON THE TABLE\n",
    "spark.sql(\"\"\"\n",
    "MERGE INTO local.db.experiment2 t USING (SELECT * FROM csv_open_2023_experiment2) u ON t.competitorId = u.competitorId\n",
    "WHEN MATCHED THEN UPDATE SET *\n",
    "WHEN NOT MATCHED THEN INSERT *\"\"\")\n",
    "\n",
    "## QUERY THE ICEBERG TABLE\n",
    "spark.sql(\"SELECT count(*) FROM local.db.experiment2\").show()\n",
    "spark.sql(\"SELECT * FROM local.db.experiment2\").show()\n",
    "spark.sql(\"DESCRIBE local.db.experiment2\").show()"
   ]
  },
  {
   "cell_type": "markdown",
   "id": "372718b2",
   "metadata": {},
   "source": [
    "Great, now it works! \n",
    "\n",
    "TODO: modify the type!"
   ]
  },
  {
   "cell_type": "markdown",
   "id": "81e46ebf",
   "metadata": {},
   "source": [
    "## Experiment THREE\n",
    "\n",
    "The same as number 1, but 2023 has rows with collisions.\n",
    "\n",
    "Lets see how Apache Iceberg handles collisions. Maybe replay"
   ]
  },
  {
   "cell_type": "code",
   "execution_count": 13,
   "id": "d5504b0b",
   "metadata": {},
   "outputs": [
    {
     "name": "stderr",
     "output_type": "stream",
     "text": [
      "                                                                                \r"
     ]
    },
    {
     "name": "stdout",
     "output_type": "stream",
     "text": [
      "+--------+\n",
      "|count(1)|\n",
      "+--------+\n",
      "|       9|\n",
      "+--------+\n",
      "\n",
      "+------------+---------------+---------+--------+------+------+-------------------+-------------------+--------+-------------+-----------+--------------------+---+------+------+-----------+------------+--------+----+\n",
      "|competitorId| competitorName|firstName|lastName|status|gender|countryOfOriginCode|countryOfOriginName|regionId|   regionName|affiliateId|       affiliateName|age|height|weight|overallRank|overallScore|genderId|year|\n",
      "+------------+---------------+---------+--------+------+------+-------------------+-------------------+--------+-------------+-----------+--------------------+---+------+------+-----------+------------+--------+----+\n",
      "|      310970|  Saxon Panchik|    Saxon| Panchik|   ACT|     M|                 US|      United States|      31|North America|      19593|CrossFit East Nas...| 26| 69 in|180 lb|          1|          25|       1|2022|\n",
      "|     1454081|    Matt Poulin|     Matt|  Poulin|   ACT|     M|                 US|      United States|      31|North America|       1526|   CrossFit Complete| 26| 70 in|195 lb|          2|          28|       1|2022|\n",
      "|      811708|Justin Medeiros|   Justin|Medeiros|   ACT|     M|                 US|      United States|      31|North America|       1792|CrossFit Fort Van...| 23| 68 in|190 lb|          3|          31|       1|2022|\n",
      "|      676693| Colten Mertens|   Colten| Mertens|   ACT|     M|                 US|      United States|      31|North America|       1324|       CrossFit Kilo| 24| 64 in|185 lb|          4|          35|       1|2022|\n",
      "|      879211|      Phil Toon|     Phil|    Toon|   ACT|     M|                 US|      United States|      31|North America|       1893|     CrossFit Naples| 24| 70 in|195 lb|          5|          38|       1|2022|\n",
      "|      935580|Victor Ljungdal|   Victor|Ljungdal|   ACT|     M|                 SE|             Sweden|      29|       Europe|      26251|Mölndal SuperB Cr...| 26|172 cm| 85 kg|          6|          46|       1|2022|\n",
      "|      156156|     Jay Crouch|      Jay|  Crouch|   ACT|     M|                 AU|          Australia|      32|      Oceania|       1348|Reebok CrossFit F...| 23|175 cm| 85 kg|          7|          53|       1|2022|\n",
      "|      534247|   Scott Tetlow|    Scott|  Tetlow|   ACT|     M|                 US|      United States|      31|North America|       1313|Finish Strong Cro...| 29| 63 in|175 lb|          8|          72|       1|2022|\n",
      "|      493511|Cédric Lapointe|   Cédric|Lapointe|   ACT|     M|                 CA|             Canada|      31|North America|      10570|        CrossFit 819| 25| 69 in|187 lb|          9|          85|       1|2022|\n",
      "+------------+---------------+---------+--------+------+------+-------------------+-------------------+--------+-------------+-----------+--------------------+---+------+------+-----------+------------+--------+----+\n",
      "\n",
      "+-------------------+---------+-------+\n",
      "|           col_name|data_type|comment|\n",
      "+-------------------+---------+-------+\n",
      "|       competitorId|   string|       |\n",
      "|     competitorName|   string|       |\n",
      "|          firstName|   string|       |\n",
      "|           lastName|   string|       |\n",
      "|             status|   string|       |\n",
      "|             gender|   string|       |\n",
      "|countryOfOriginCode|   string|       |\n",
      "|countryOfOriginName|   string|       |\n",
      "|           regionId|   string|       |\n",
      "|         regionName|   string|       |\n",
      "|        affiliateId|   string|       |\n",
      "|      affiliateName|   string|       |\n",
      "|                age|   string|       |\n",
      "|             height|   string|       |\n",
      "|             weight|   string|       |\n",
      "|        overallRank|   string|       |\n",
      "|       overallScore|   string|       |\n",
      "|           genderId|   string|       |\n",
      "|               year|   string|       |\n",
      "|                   |         |       |\n",
      "+-------------------+---------+-------+\n",
      "only showing top 20 rows\n",
      "\n"
     ]
    }
   ],
   "source": [
    "## LOAD A CSV INTO AN SQL VIEW\n",
    "csv_df_e3_2022 = spark.read.format(\"csv\").option(\"header\", \"true\").load(\"../datasets/experiment3/df_open_2022_small.csv\")\n",
    "csv_df_e3_2022.createOrReplaceTempView(\"csv_open_2022_experiment_3\")\n",
    "\n",
    "## CREATE AN ICEBERG TABLE FROM THE SQL VIEW\n",
    "spark.sql(\"CREATE TABLE IF NOT EXISTS local.db.experiment3 USING iceberg AS SELECT * FROM csv_open_2022_experiment_3\")\n",
    "\n",
    "## QUERY THE ICEBERG TABLE\n",
    "spark.sql(\"SELECT count(*) FROM local.db.experiment3\").show()\n",
    "spark.sql(\"SELECT * FROM local.db.experiment3\").show()\n",
    "spark.sql(\"DESCRIBE local.db.experiment3\").show()"
   ]
  },
  {
   "cell_type": "code",
   "execution_count": 14,
   "id": "4c95fa08",
   "metadata": {},
   "outputs": [
    {
     "name": "stderr",
     "output_type": "stream",
     "text": [
      "                                                                                \r"
     ]
    },
    {
     "name": "stdout",
     "output_type": "stream",
     "text": [
      "+--------+\n",
      "|count(1)|\n",
      "+--------+\n",
      "|      17|\n",
      "+--------+\n",
      "\n",
      "+------------+--------------------+---------+-----------+------+------+-------------------+-------------------+--------+------------------+-----------+--------------------+---+------+------+-----------+------------+--------+----+\n",
      "|competitorId|      competitorName|firstName|   lastName|status|gender|countryOfOriginCode|countryOfOriginName|regionId|        regionName|affiliateId|       affiliateName|age|height|weight|overallRank|overallScore|genderId|year|\n",
      "+------------+--------------------+---------+-----------+------+------+-------------------+-------------------+--------+------------------+-----------+--------------------+---+------+------+-----------+------------+--------+----+\n",
      "|     1031875|     Roldan Goldbaum|   Roldan|   Goldbaum|   ACT|     M|                 MX|             Mexico|      34|North America West|      21264|Strong Suit CrossFit| 23|170 cm| 86 kg|          5|         526|       1|2023|\n",
      "|     1454081|         Matt Poulin|     Matt|     Poulin|   ACT|     M|                 US|      United States|      31|     North America|       1526|   CrossFit Complete| 26| 70 in|195 lb|          2|          28|       1|2022|\n",
      "|      156156|  UPDATED Jay Crouch|      Jay|     Crouch|   ACT|     M|                 AU|          Australia|      32|           Oceania|       1348|Reebok CrossFit F...| 23|175 cm| 85 kg|          7|          53|       1|2022|\n",
      "|      300638|      Tola Morakinyo|     Tola|  Morakinyo|   ACT|     M|                 US|      United States|      35|North America East|      19593|CrossFit East Nas...| 27| 72 in|212 lb|          2|         219|       1|2023|\n",
      "|      310970|       Saxon Panchik|    Saxon|    Panchik|   ACT|     M|                 US|      United States|      31|     North America|      19593|CrossFit East Nas...| 26| 69 in|180 lb|          1|          25|       1|2022|\n",
      "|      327636|    Samuel Cournoyer|   Samuel|  Cournoyer|   ACT|     M|                 CA|             Canada|      35|North America East|      28908|CrossFit ADM Chambly| 27|180 cm|205 lb|          6|         619|       1|2023|\n",
      "|       40955|        Ricky Garard|    Ricky|     Garard|   ACT|     M|                 AU|          Australia|      32|           Oceania|       9286|Fitness Alley Cro...| 29|179 cm|205 lb|          7|         633|       1|2023|\n",
      "|      469656|       Jeffrey Adler|  Jeffrey|      Adler|   ACT|     M|                 CA|             Canada|      35|North America East|      18059| CrossFit Wonderland| 29| 69 in|197 lb|          1|         107|       1|2023|\n",
      "|      493511|UPDATED Cédric La...|   Cédric|   Lapointe|   ACT|     M|                 CA|             Canada|      31|     North America|      10570|        CrossFit 819| 25| 69 in|187 lb|          9|          85|       1|2022|\n",
      "|      534247|UPDATED Scott Tetlow|    Scott|     Tetlow|   ACT|     M|                 US|      United States|      31|     North America|       1313|Finish Strong Cro...| 29| 63 in|175 lb|          8|          72|       1|2022|\n",
      "|      663689|   Tyler Christophel|    Tyler|Christophel|   ACT|     M|                 US|      United States|      35|North America East|       3220|     CrossFit Mayhem| 33| 70 in|195 lb|          4|         375|       1|2023|\n",
      "|      671093|       Dallin Pepper|   Dallin|     Pepper|   ACT|     M|                 US|      United States|      35|North America East|       1893|     CrossFit Naples| 21| 72 in|215 lb|          8|         656|       1|2023|\n",
      "|      676693|      Colten Mertens|   Colten|    Mertens|   ACT|     M|                 US|      United States|      34|North America West|       1324|       CrossFit Kilo| 25| 64 in|180 lb|          3|         367|       1|2023|\n",
      "|      811708|     Justin Medeiros|   Justin|   Medeiros|   ACT|     M|                 US|      United States|      31|     North America|       1792|CrossFit Fort Van...| 23| 68 in|190 lb|          3|          31|       1|2022|\n",
      "|      879211|           Phil Toon|     Phil|       Toon|   ACT|     M|                 US|      United States|      31|     North America|       1893|     CrossFit Naples| 24| 70 in|195 lb|          5|          38|       1|2022|\n",
      "|      935580|UPDATED Victor Lj...|   Victor|   Ljungdal|   ACT|     M|                 SE|             Sweden|      29|            Europe|      26251|Mölndal SuperB Cr...| 26|172 cm| 85 kg|          6|          46|       1|2022|\n",
      "|      945268|         Reggie Fasa|   Reggie|       Fasa|   ACT|     M|                 GB|     United Kingdom|      29|            Europe|      16754|CrossFit Chester ...| 28|174 cm| 93 kg|          9|         668|       1|2023|\n",
      "+------------+--------------------+---------+-----------+------+------+-------------------+-------------------+--------+------------------+-----------+--------------------+---+------+------+-----------+------------+--------+----+\n",
      "\n"
     ]
    }
   ],
   "source": [
    "# READ DATA FOR 2023\n",
    "csv_df_e3_2023 = spark.read.format(\"csv\").option(\"header\", \"true\").load(\"../datasets/experiment3/df_open_2023_small.csv\")\n",
    "csv_df_e3_2023.createOrReplaceTempView(\"csv_open_2023_experiment3\")\n",
    "\n",
    "# PERFORM MERGE ON THE TABLE\n",
    "spark.sql(\"\"\"\n",
    "MERGE INTO local.db.experiment3 t USING (SELECT * FROM csv_open_2023_experiment3) u ON t.competitorId = u.competitorId\n",
    "WHEN MATCHED THEN UPDATE SET *\n",
    "WHEN NOT MATCHED THEN INSERT *\"\"\")\n",
    "\n",
    "# INSPECT THE TABLE AFTER\n",
    "spark.sql(\"SELECT count(*) FROM local.db.experiment3\").show()\n",
    "spark.sql(\"SELECT * FROM local.db.experiment3\").show()"
   ]
  },
  {
   "cell_type": "code",
   "execution_count": 20,
   "id": "d1d73330",
   "metadata": {},
   "outputs": [
    {
     "name": "stderr",
     "output_type": "stream",
     "text": [
      "\r",
      "[Stage 115:>                                                        (0 + 1) / 1]\r",
      "\r",
      "                                                                                \r"
     ]
    },
    {
     "name": "stdout",
     "output_type": "stream",
     "text": [
      "+--------------------+-------------------+-------------------+-------------------+\n",
      "|     made_current_at|        snapshot_id|          parent_id|is_current_ancestor|\n",
      "+--------------------+-------------------+-------------------+-------------------+\n",
      "|2023-11-29 15:31:...|6972414410548376259|               null|               true|\n",
      "|2023-11-29 15:32:...|1468678298885254723|6972414410548376259|               true|\n",
      "+--------------------+-------------------+-------------------+-------------------+\n",
      "\n"
     ]
    }
   ],
   "source": [
    "spark.sql(\"\"\"\n",
    "SELECT * FROM local.db.experiment3.history\n",
    "   \"\"\").show()"
   ]
  },
  {
   "cell_type": "code",
   "execution_count": 25,
   "id": "9ceb42f1",
   "metadata": {},
   "outputs": [
    {
     "name": "stderr",
     "output_type": "stream",
     "text": [
      "                                                                                \r"
     ]
    },
    {
     "name": "stdout",
     "output_type": "stream",
     "text": [
      "+------------+--------------------+---------+-----------+------+------+-------------------+-------------------+--------+------------------+-----------+--------------------+---+------+------+-----------+------------+--------+----+\n",
      "|competitorId|      competitorName|firstName|   lastName|status|gender|countryOfOriginCode|countryOfOriginName|regionId|        regionName|affiliateId|       affiliateName|age|height|weight|overallRank|overallScore|genderId|year|\n",
      "+------------+--------------------+---------+-----------+------+------+-------------------+-------------------+--------+------------------+-----------+--------------------+---+------+------+-----------+------------+--------+----+\n",
      "|     1031875|     Roldan Goldbaum|   Roldan|   Goldbaum|   ACT|     M|                 MX|             Mexico|      34|North America West|      21264|Strong Suit CrossFit| 23|170 cm| 86 kg|          5|         526|       1|2023|\n",
      "|     1454081|         Matt Poulin|     Matt|     Poulin|   ACT|     M|                 US|      United States|      31|     North America|       1526|   CrossFit Complete| 26| 70 in|195 lb|          2|          28|       1|2022|\n",
      "|      156156|  UPDATED Jay Crouch|      Jay|     Crouch|   ACT|     M|                 AU|          Australia|      32|           Oceania|       1348|Reebok CrossFit F...| 23|175 cm| 85 kg|          7|          53|       1|2022|\n",
      "|      300638|      Tola Morakinyo|     Tola|  Morakinyo|   ACT|     M|                 US|      United States|      35|North America East|      19593|CrossFit East Nas...| 27| 72 in|212 lb|          2|         219|       1|2023|\n",
      "|      310970|       Saxon Panchik|    Saxon|    Panchik|   ACT|     M|                 US|      United States|      31|     North America|      19593|CrossFit East Nas...| 26| 69 in|180 lb|          1|          25|       1|2022|\n",
      "|      327636|    Samuel Cournoyer|   Samuel|  Cournoyer|   ACT|     M|                 CA|             Canada|      35|North America East|      28908|CrossFit ADM Chambly| 27|180 cm|205 lb|          6|         619|       1|2023|\n",
      "|       40955|        Ricky Garard|    Ricky|     Garard|   ACT|     M|                 AU|          Australia|      32|           Oceania|       9286|Fitness Alley Cro...| 29|179 cm|205 lb|          7|         633|       1|2023|\n",
      "|      469656|       Jeffrey Adler|  Jeffrey|      Adler|   ACT|     M|                 CA|             Canada|      35|North America East|      18059| CrossFit Wonderland| 29| 69 in|197 lb|          1|         107|       1|2023|\n",
      "|      493511|UPDATED Cédric La...|   Cédric|   Lapointe|   ACT|     M|                 CA|             Canada|      31|     North America|      10570|        CrossFit 819| 25| 69 in|187 lb|          9|          85|       1|2022|\n",
      "|      534247|UPDATED Scott Tetlow|    Scott|     Tetlow|   ACT|     M|                 US|      United States|      31|     North America|       1313|Finish Strong Cro...| 29| 63 in|175 lb|          8|          72|       1|2022|\n",
      "|      663689|   Tyler Christophel|    Tyler|Christophel|   ACT|     M|                 US|      United States|      35|North America East|       3220|     CrossFit Mayhem| 33| 70 in|195 lb|          4|         375|       1|2023|\n",
      "|      671093|       Dallin Pepper|   Dallin|     Pepper|   ACT|     M|                 US|      United States|      35|North America East|       1893|     CrossFit Naples| 21| 72 in|215 lb|          8|         656|       1|2023|\n",
      "|      676693|      Colten Mertens|   Colten|    Mertens|   ACT|     M|                 US|      United States|      34|North America West|       1324|       CrossFit Kilo| 25| 64 in|180 lb|          3|         367|       1|2023|\n",
      "|      811708|     Justin Medeiros|   Justin|   Medeiros|   ACT|     M|                 US|      United States|      31|     North America|       1792|CrossFit Fort Van...| 23| 68 in|190 lb|          3|          31|       1|2022|\n",
      "|      879211|           Phil Toon|     Phil|       Toon|   ACT|     M|                 US|      United States|      31|     North America|       1893|     CrossFit Naples| 24| 70 in|195 lb|          5|          38|       1|2022|\n",
      "|      935580|UPDATED Victor Lj...|   Victor|   Ljungdal|   ACT|     M|                 SE|             Sweden|      29|            Europe|      26251|Mölndal SuperB Cr...| 26|172 cm| 85 kg|          6|          46|       1|2022|\n",
      "|      945268|         Reggie Fasa|   Reggie|       Fasa|   ACT|     M|                 GB|     United Kingdom|      29|            Europe|      16754|CrossFit Chester ...| 28|174 cm| 93 kg|          9|         668|       1|2023|\n",
      "+------------+--------------------+---------+-----------+------+------+-------------------+-------------------+--------+------------------+-----------+--------------------+---+------+------+-----------+------------+--------+----+\n",
      "\n"
     ]
    }
   ],
   "source": [
    "spark.sql(\"\"\"\n",
    "SELECT * FROM local.db.experiment3;\n",
    "   \"\"\").show()"
   ]
  },
  {
   "cell_type": "code",
   "execution_count": 26,
   "id": "a6e6d503",
   "metadata": {},
   "outputs": [
    {
     "name": "stderr",
     "output_type": "stream",
     "text": [
      "                                                                                \r"
     ]
    },
    {
     "name": "stdout",
     "output_type": "stream",
     "text": [
      "+------------+---------------+---------+--------+------+------+-------------------+-------------------+--------+-------------+-----------+--------------------+---+------+------+-----------+------------+--------+----+\n",
      "|competitorId| competitorName|firstName|lastName|status|gender|countryOfOriginCode|countryOfOriginName|regionId|   regionName|affiliateId|       affiliateName|age|height|weight|overallRank|overallScore|genderId|year|\n",
      "+------------+---------------+---------+--------+------+------+-------------------+-------------------+--------+-------------+-----------+--------------------+---+------+------+-----------+------------+--------+----+\n",
      "|      310970|  Saxon Panchik|    Saxon| Panchik|   ACT|     M|                 US|      United States|      31|North America|      19593|CrossFit East Nas...| 26| 69 in|180 lb|          1|          25|       1|2022|\n",
      "|     1454081|    Matt Poulin|     Matt|  Poulin|   ACT|     M|                 US|      United States|      31|North America|       1526|   CrossFit Complete| 26| 70 in|195 lb|          2|          28|       1|2022|\n",
      "|      811708|Justin Medeiros|   Justin|Medeiros|   ACT|     M|                 US|      United States|      31|North America|       1792|CrossFit Fort Van...| 23| 68 in|190 lb|          3|          31|       1|2022|\n",
      "|      676693| Colten Mertens|   Colten| Mertens|   ACT|     M|                 US|      United States|      31|North America|       1324|       CrossFit Kilo| 24| 64 in|185 lb|          4|          35|       1|2022|\n",
      "|      879211|      Phil Toon|     Phil|    Toon|   ACT|     M|                 US|      United States|      31|North America|       1893|     CrossFit Naples| 24| 70 in|195 lb|          5|          38|       1|2022|\n",
      "|      935580|Victor Ljungdal|   Victor|Ljungdal|   ACT|     M|                 SE|             Sweden|      29|       Europe|      26251|Mölndal SuperB Cr...| 26|172 cm| 85 kg|          6|          46|       1|2022|\n",
      "|      156156|     Jay Crouch|      Jay|  Crouch|   ACT|     M|                 AU|          Australia|      32|      Oceania|       1348|Reebok CrossFit F...| 23|175 cm| 85 kg|          7|          53|       1|2022|\n",
      "|      534247|   Scott Tetlow|    Scott|  Tetlow|   ACT|     M|                 US|      United States|      31|North America|       1313|Finish Strong Cro...| 29| 63 in|175 lb|          8|          72|       1|2022|\n",
      "|      493511|Cédric Lapointe|   Cédric|Lapointe|   ACT|     M|                 CA|             Canada|      31|North America|      10570|        CrossFit 819| 25| 69 in|187 lb|          9|          85|       1|2022|\n",
      "+------------+---------------+---------+--------+------+------+-------------------+-------------------+--------+-------------+-----------+--------------------+---+------+------+-----------+------------+--------+----+\n",
      "\n"
     ]
    }
   ],
   "source": [
    "spark.sql(\"\"\"\n",
    "SELECT * FROM local.db.experiment3 VERSION AS OF 6972414410548376259;\n",
    "   \"\"\").show()"
   ]
  },
  {
   "cell_type": "markdown",
   "id": "99725ee2",
   "metadata": {},
   "source": [
    "## Experiment FOUR\n",
    "\n",
    "The same as number 3, where we do some schema evolution by adding a column, but instead of altering the table, lets enable automatic schema evolution and see what happenes.\n"
   ]
  },
  {
   "cell_type": "code",
   "execution_count": 32,
   "id": "1ac086ef",
   "metadata": {},
   "outputs": [
    {
     "name": "stderr",
     "output_type": "stream",
     "text": [
      "                                                                                \r"
     ]
    },
    {
     "name": "stdout",
     "output_type": "stream",
     "text": [
      "+--------+\n",
      "|count(1)|\n",
      "+--------+\n",
      "|       9|\n",
      "+--------+\n",
      "\n"
     ]
    },
    {
     "name": "stderr",
     "output_type": "stream",
     "text": [
      "                                                                                \r"
     ]
    },
    {
     "name": "stdout",
     "output_type": "stream",
     "text": [
      "+------------+---------------+---------+--------+------+------+-------------------+-------------------+--------+-------------+-----------+--------------------+---+------+------+-----------+------------+--------+----+\n",
      "|competitorId| competitorName|firstName|lastName|status|gender|countryOfOriginCode|countryOfOriginName|regionId|   regionName|affiliateId|       affiliateName|age|height|weight|overallRank|overallScore|genderId|year|\n",
      "+------------+---------------+---------+--------+------+------+-------------------+-------------------+--------+-------------+-----------+--------------------+---+------+------+-----------+------------+--------+----+\n",
      "|      310970|  Saxon Panchik|    Saxon| Panchik|   ACT|     M|                 US|      United States|      31|North America|      19593|CrossFit East Nas...| 26| 69 in|180 lb|          1|          25|       1|2022|\n",
      "|     1454081|    Matt Poulin|     Matt|  Poulin|   ACT|     M|                 US|      United States|      31|North America|       1526|   CrossFit Complete| 26| 70 in|195 lb|          2|          28|       1|2022|\n",
      "|      811708|Justin Medeiros|   Justin|Medeiros|   ACT|     M|                 US|      United States|      31|North America|       1792|CrossFit Fort Van...| 23| 68 in|190 lb|          3|          31|       1|2022|\n",
      "|      676693| Colten Mertens|   Colten| Mertens|   ACT|     M|                 US|      United States|      31|North America|       1324|       CrossFit Kilo| 24| 64 in|185 lb|          4|          35|       1|2022|\n",
      "|      879211|      Phil Toon|     Phil|    Toon|   ACT|     M|                 US|      United States|      31|North America|       1893|     CrossFit Naples| 24| 70 in|195 lb|          5|          38|       1|2022|\n",
      "|      935580|Victor Ljungdal|   Victor|Ljungdal|   ACT|     M|                 SE|             Sweden|      29|       Europe|      26251|Mölndal SuperB Cr...| 26|172 cm| 85 kg|          6|          46|       1|2022|\n",
      "|      156156|     Jay Crouch|      Jay|  Crouch|   ACT|     M|                 AU|          Australia|      32|      Oceania|       1348|Reebok CrossFit F...| 23|175 cm| 85 kg|          7|          53|       1|2022|\n",
      "|      534247|   Scott Tetlow|    Scott|  Tetlow|   ACT|     M|                 US|      United States|      31|North America|       1313|Finish Strong Cro...| 29| 63 in|175 lb|          8|          72|       1|2022|\n",
      "|      493511|Cédric Lapointe|   Cédric|Lapointe|   ACT|     M|                 CA|             Canada|      31|North America|      10570|        CrossFit 819| 25| 69 in|187 lb|          9|          85|       1|2022|\n",
      "+------------+---------------+---------+--------+------+------+-------------------+-------------------+--------+-------------+-----------+--------------------+---+------+------+-----------+------------+--------+----+\n",
      "\n",
      "+-------------------+---------+-------+\n",
      "|           col_name|data_type|comment|\n",
      "+-------------------+---------+-------+\n",
      "|       competitorId|   string|       |\n",
      "|     competitorName|   string|       |\n",
      "|          firstName|   string|       |\n",
      "|           lastName|   string|       |\n",
      "|             status|   string|       |\n",
      "|             gender|   string|       |\n",
      "|countryOfOriginCode|   string|       |\n",
      "|countryOfOriginName|   string|       |\n",
      "|           regionId|   string|       |\n",
      "|         regionName|   string|       |\n",
      "|        affiliateId|   string|       |\n",
      "|      affiliateName|   string|       |\n",
      "|                age|   string|       |\n",
      "|             height|   string|       |\n",
      "|             weight|   string|       |\n",
      "|        overallRank|   string|       |\n",
      "|       overallScore|   string|       |\n",
      "|           genderId|   string|       |\n",
      "|               year|   string|       |\n",
      "|                   |         |       |\n",
      "+-------------------+---------+-------+\n",
      "only showing top 20 rows\n",
      "\n"
     ]
    }
   ],
   "source": [
    "## LOAD A CSV INTO AN SQL VIEW\n",
    "csv_df_e4_2022 = spark.read.format(\"csv\").option(\"header\", \"true\").load(\"../datasets/experiment2/df_open_2022_small.csv\")\n",
    "csv_df_e4_2022.createOrReplaceTempView(\"csv_open_2022_experiment_4\")\n",
    "\n",
    "## CREATE AN ICEBERG TABLE FROM THE SQL VIEW\n",
    "\n",
    "spark.sql(\"CREATE TABLE IF NOT EXISTS local.db.experiment4 USING iceberg AS SELECT * FROM csv_open_2022_experiment_4\")\n",
    "\n",
    "\n",
    "\n",
    "## QUERY THE ICEBERG TABLE\n",
    "spark.sql(\"SELECT count(*) FROM local.db.experiment4\").show()\n",
    "spark.sql(\"SELECT * FROM local.db.experiment4\").show()\n",
    "spark.sql(\"DESCRIBE local.db.experiment4\").show()"
   ]
  },
  {
   "cell_type": "code",
   "execution_count": 33,
   "id": "4efe1078",
   "metadata": {},
   "outputs": [
    {
     "name": "stdout",
     "output_type": "stream",
     "text": [
      "23/11/29 16:01:48 WARN BaseTransaction: Failed to load metadata for a committed snapshot, skipping clean-up\n"
     ]
    },
    {
     "data": {
      "text/plain": [
       "DataFrame[]"
      ]
     },
     "execution_count": 33,
     "metadata": {},
     "output_type": "execute_result"
    }
   ],
   "source": [
    "spark.sql(\"\"\"ALTER TABLE local.db.experiment4 SET TBLPROPERTIES (\n",
    "  'write.spark.accept-any-schema'='true'\n",
    ")\"\"\")"
   ]
  },
  {
   "cell_type": "code",
   "execution_count": 35,
   "id": "b898ba9f",
   "metadata": {
    "scrolled": false
   },
   "outputs": [
    {
     "name": "stderr",
     "output_type": "stream",
     "text": [
      "                                                                                \r"
     ]
    },
    {
     "name": "stdout",
     "output_type": "stream",
     "text": [
      "+------------+-----------------+---------+-----------+------+------+-------------------+-------------------+--------+------------------+-----------+--------------------+---+------+------+-----------+------------+--------+----+--------------------+\n",
      "|competitorId|   competitorName|firstName|   lastName|status|gender|countryOfOriginCode|countryOfOriginName|regionId|        regionName|affiliateId|       affiliateName|age|height|weight|overallRank|overallScore|genderId|year|          aNewColumn|\n",
      "+------------+-----------------+---------+-----------+------+------+-------------------+-------------------+--------+------------------+-----------+--------------------+---+------+------+-----------+------------+--------+----+--------------------+\n",
      "|      469656|    Jeffrey Adler|  Jeffrey|      Adler|   ACT|     M|                 CA|             Canada|      35|North America East|      18059| CrossFit Wonderland| 29| 69 in|197 lb|          1|         107|       1|2023|thisIsANewColumn_...|\n",
      "|      300638|   Tola Morakinyo|     Tola|  Morakinyo|   ACT|     M|                 US|      United States|      35|North America East|      19593|CrossFit East Nas...| 27| 72 in|212 lb|          2|         219|       1|2023|thisIsANewColumn_...|\n",
      "|      676693|   Colten Mertens|   Colten|    Mertens|   ACT|     M|                 US|      United States|      34|North America West|       1324|       CrossFit Kilo| 25| 64 in|180 lb|          3|         367|       1|2023|thisIsANewColumn_...|\n",
      "|      663689|Tyler Christophel|    Tyler|Christophel|   ACT|     M|                 US|      United States|      35|North America East|       3220|     CrossFit Mayhem| 33| 70 in|195 lb|          4|         375|       1|2023|thisIsANewColumn_...|\n",
      "|     1031875|  Roldan Goldbaum|   Roldan|   Goldbaum|   ACT|     M|                 MX|             Mexico|      34|North America West|      21264|Strong Suit CrossFit| 23|170 cm| 86 kg|          5|         526|       1|2023|thisIsANewColumn_...|\n",
      "|      327636| Samuel Cournoyer|   Samuel|  Cournoyer|   ACT|     M|                 CA|             Canada|      35|North America East|      28908|CrossFit ADM Chambly| 27|180 cm|205 lb|          6|         619|       1|2023|thisIsANewColumn_...|\n",
      "|       40955|     Ricky Garard|    Ricky|     Garard|   ACT|     M|                 AU|          Australia|      32|           Oceania|       9286|Fitness Alley Cro...| 29|179 cm|205 lb|          7|         633|       1|2023|thisIsANewColumn_...|\n",
      "|      671093|    Dallin Pepper|   Dallin|     Pepper|   ACT|     M|                 US|      United States|      35|North America East|       1893|     CrossFit Naples| 21| 72 in|215 lb|          8|         656|       1|2023|thisIsANewColumn_...|\n",
      "|      945268|      Reggie Fasa|   Reggie|       Fasa|   ACT|     M|                 GB|     United Kingdom|      29|            Europe|      16754|CrossFit Chester ...| 28|174 cm| 93 kg|          9|         668|       1|2023|thisIsANewColumn_...|\n",
      "+------------+-----------------+---------+-----------+------+------+-------------------+-------------------+--------+------------------+-----------+--------------------+---+------+------+-----------+------------+--------+----+--------------------+\n",
      "\n"
     ]
    },
    {
     "name": "stderr",
     "output_type": "stream",
     "text": [
      "                                                                                \r"
     ]
    },
    {
     "name": "stdout",
     "output_type": "stream",
     "text": [
      "+--------+\n",
      "|count(1)|\n",
      "+--------+\n",
      "|      18|\n",
      "+--------+\n",
      "\n"
     ]
    },
    {
     "name": "stderr",
     "output_type": "stream",
     "text": [
      "                                                                                \r"
     ]
    },
    {
     "name": "stdout",
     "output_type": "stream",
     "text": [
      "+------------+-----------------+---------+-----------+------+------+-------------------+-------------------+--------+------------------+-----------+--------------------+---+------+------+-----------+------------+--------+----+--------------------+\n",
      "|competitorId|   competitorName|firstName|   lastName|status|gender|countryOfOriginCode|countryOfOriginName|regionId|        regionName|affiliateId|       affiliateName|age|height|weight|overallRank|overallScore|genderId|year|          aNewColumn|\n",
      "+------------+-----------------+---------+-----------+------+------+-------------------+-------------------+--------+------------------+-----------+--------------------+---+------+------+-----------+------------+--------+----+--------------------+\n",
      "|      310970|    Saxon Panchik|    Saxon|    Panchik|   ACT|     M|                 US|      United States|      31|     North America|      19593|CrossFit East Nas...| 26| 69 in|180 lb|          1|          25|       1|2022|                null|\n",
      "|     1454081|      Matt Poulin|     Matt|     Poulin|   ACT|     M|                 US|      United States|      31|     North America|       1526|   CrossFit Complete| 26| 70 in|195 lb|          2|          28|       1|2022|                null|\n",
      "|      811708|  Justin Medeiros|   Justin|   Medeiros|   ACT|     M|                 US|      United States|      31|     North America|       1792|CrossFit Fort Van...| 23| 68 in|190 lb|          3|          31|       1|2022|                null|\n",
      "|      676693|   Colten Mertens|   Colten|    Mertens|   ACT|     M|                 US|      United States|      31|     North America|       1324|       CrossFit Kilo| 24| 64 in|185 lb|          4|          35|       1|2022|                null|\n",
      "|      879211|        Phil Toon|     Phil|       Toon|   ACT|     M|                 US|      United States|      31|     North America|       1893|     CrossFit Naples| 24| 70 in|195 lb|          5|          38|       1|2022|                null|\n",
      "|      935580|  Victor Ljungdal|   Victor|   Ljungdal|   ACT|     M|                 SE|             Sweden|      29|            Europe|      26251|Mölndal SuperB Cr...| 26|172 cm| 85 kg|          6|          46|       1|2022|                null|\n",
      "|      156156|       Jay Crouch|      Jay|     Crouch|   ACT|     M|                 AU|          Australia|      32|           Oceania|       1348|Reebok CrossFit F...| 23|175 cm| 85 kg|          7|          53|       1|2022|                null|\n",
      "|      534247|     Scott Tetlow|    Scott|     Tetlow|   ACT|     M|                 US|      United States|      31|     North America|       1313|Finish Strong Cro...| 29| 63 in|175 lb|          8|          72|       1|2022|                null|\n",
      "|      493511|  Cédric Lapointe|   Cédric|   Lapointe|   ACT|     M|                 CA|             Canada|      31|     North America|      10570|        CrossFit 819| 25| 69 in|187 lb|          9|          85|       1|2022|                null|\n",
      "|      469656|    Jeffrey Adler|  Jeffrey|      Adler|   ACT|     M|                 CA|             Canada|      35|North America East|      18059| CrossFit Wonderland| 29| 69 in|197 lb|          1|         107|       1|2023|thisIsANewColumn_...|\n",
      "|      300638|   Tola Morakinyo|     Tola|  Morakinyo|   ACT|     M|                 US|      United States|      35|North America East|      19593|CrossFit East Nas...| 27| 72 in|212 lb|          2|         219|       1|2023|thisIsANewColumn_...|\n",
      "|      676693|   Colten Mertens|   Colten|    Mertens|   ACT|     M|                 US|      United States|      34|North America West|       1324|       CrossFit Kilo| 25| 64 in|180 lb|          3|         367|       1|2023|thisIsANewColumn_...|\n",
      "|      663689|Tyler Christophel|    Tyler|Christophel|   ACT|     M|                 US|      United States|      35|North America East|       3220|     CrossFit Mayhem| 33| 70 in|195 lb|          4|         375|       1|2023|thisIsANewColumn_...|\n",
      "|     1031875|  Roldan Goldbaum|   Roldan|   Goldbaum|   ACT|     M|                 MX|             Mexico|      34|North America West|      21264|Strong Suit CrossFit| 23|170 cm| 86 kg|          5|         526|       1|2023|thisIsANewColumn_...|\n",
      "|      327636| Samuel Cournoyer|   Samuel|  Cournoyer|   ACT|     M|                 CA|             Canada|      35|North America East|      28908|CrossFit ADM Chambly| 27|180 cm|205 lb|          6|         619|       1|2023|thisIsANewColumn_...|\n",
      "|       40955|     Ricky Garard|    Ricky|     Garard|   ACT|     M|                 AU|          Australia|      32|           Oceania|       9286|Fitness Alley Cro...| 29|179 cm|205 lb|          7|         633|       1|2023|thisIsANewColumn_...|\n",
      "|      671093|    Dallin Pepper|   Dallin|     Pepper|   ACT|     M|                 US|      United States|      35|North America East|       1893|     CrossFit Naples| 21| 72 in|215 lb|          8|         656|       1|2023|thisIsANewColumn_...|\n",
      "|      945268|      Reggie Fasa|   Reggie|       Fasa|   ACT|     M|                 GB|     United Kingdom|      29|            Europe|      16754|CrossFit Chester ...| 28|174 cm| 93 kg|          9|         668|       1|2023|thisIsANewColumn_...|\n",
      "+------------+-----------------+---------+-----------+------+------+-------------------+-------------------+--------+------------------+-----------+--------------------+---+------+------+-----------+------------+--------+----+--------------------+\n",
      "\n"
     ]
    },
    {
     "ename": "AnalysisException",
     "evalue": "Table or view not found: local.db.experiment; line 1 pos 9;\n'DescribeRelation false, [col_name#6275, data_type#6276, comment#6277]\n+- 'UnresolvedTableOrView [local, db, experiment], DESCRIBE TABLE, true\n",
     "output_type": "error",
     "traceback": [
      "\u001b[0;31m---------------------------------------------------------------------------\u001b[0m",
      "\u001b[0;31mAnalysisException\u001b[0m                         Traceback (most recent call last)",
      "Cell \u001b[0;32mIn[35], line 11\u001b[0m\n\u001b[1;32m      9\u001b[0m spark\u001b[38;5;241m.\u001b[39msql(\u001b[38;5;124m\"\u001b[39m\u001b[38;5;124mSELECT count(*) FROM local.db.experiment4\u001b[39m\u001b[38;5;124m\"\u001b[39m)\u001b[38;5;241m.\u001b[39mshow()\n\u001b[1;32m     10\u001b[0m spark\u001b[38;5;241m.\u001b[39msql(\u001b[38;5;124m\"\u001b[39m\u001b[38;5;124mSELECT * FROM local.db.experiment4\u001b[39m\u001b[38;5;124m\"\u001b[39m)\u001b[38;5;241m.\u001b[39mshow()\n\u001b[0;32m---> 11\u001b[0m \u001b[43mspark\u001b[49m\u001b[38;5;241;43m.\u001b[39;49m\u001b[43msql\u001b[49m\u001b[43m(\u001b[49m\u001b[38;5;124;43m\"\u001b[39;49m\u001b[38;5;124;43mDESCRIBE local.db.experiment\u001b[39;49m\u001b[38;5;124;43m\"\u001b[39;49m\u001b[43m)\u001b[49m\u001b[38;5;241m.\u001b[39mshow()\n",
      "File \u001b[0;32m~/.local/lib/python3.10/site-packages/pyspark/sql/session.py:1034\u001b[0m, in \u001b[0;36mSparkSession.sql\u001b[0;34m(self, sqlQuery, **kwargs)\u001b[0m\n\u001b[1;32m   1032\u001b[0m     sqlQuery \u001b[38;5;241m=\u001b[39m formatter\u001b[38;5;241m.\u001b[39mformat(sqlQuery, \u001b[38;5;241m*\u001b[39m\u001b[38;5;241m*\u001b[39mkwargs)\n\u001b[1;32m   1033\u001b[0m \u001b[38;5;28;01mtry\u001b[39;00m:\n\u001b[0;32m-> 1034\u001b[0m     \u001b[38;5;28;01mreturn\u001b[39;00m DataFrame(\u001b[38;5;28;43mself\u001b[39;49m\u001b[38;5;241;43m.\u001b[39;49m\u001b[43m_jsparkSession\u001b[49m\u001b[38;5;241;43m.\u001b[39;49m\u001b[43msql\u001b[49m\u001b[43m(\u001b[49m\u001b[43msqlQuery\u001b[49m\u001b[43m)\u001b[49m, \u001b[38;5;28mself\u001b[39m)\n\u001b[1;32m   1035\u001b[0m \u001b[38;5;28;01mfinally\u001b[39;00m:\n\u001b[1;32m   1036\u001b[0m     \u001b[38;5;28;01mif\u001b[39;00m \u001b[38;5;28mlen\u001b[39m(kwargs) \u001b[38;5;241m>\u001b[39m \u001b[38;5;241m0\u001b[39m:\n",
      "File \u001b[0;32m~/.local/lib/python3.10/site-packages/py4j/java_gateway.py:1321\u001b[0m, in \u001b[0;36mJavaMember.__call__\u001b[0;34m(self, *args)\u001b[0m\n\u001b[1;32m   1315\u001b[0m command \u001b[38;5;241m=\u001b[39m proto\u001b[38;5;241m.\u001b[39mCALL_COMMAND_NAME \u001b[38;5;241m+\u001b[39m\\\n\u001b[1;32m   1316\u001b[0m     \u001b[38;5;28mself\u001b[39m\u001b[38;5;241m.\u001b[39mcommand_header \u001b[38;5;241m+\u001b[39m\\\n\u001b[1;32m   1317\u001b[0m     args_command \u001b[38;5;241m+\u001b[39m\\\n\u001b[1;32m   1318\u001b[0m     proto\u001b[38;5;241m.\u001b[39mEND_COMMAND_PART\n\u001b[1;32m   1320\u001b[0m answer \u001b[38;5;241m=\u001b[39m \u001b[38;5;28mself\u001b[39m\u001b[38;5;241m.\u001b[39mgateway_client\u001b[38;5;241m.\u001b[39msend_command(command)\n\u001b[0;32m-> 1321\u001b[0m return_value \u001b[38;5;241m=\u001b[39m \u001b[43mget_return_value\u001b[49m\u001b[43m(\u001b[49m\n\u001b[1;32m   1322\u001b[0m \u001b[43m    \u001b[49m\u001b[43manswer\u001b[49m\u001b[43m,\u001b[49m\u001b[43m \u001b[49m\u001b[38;5;28;43mself\u001b[39;49m\u001b[38;5;241;43m.\u001b[39;49m\u001b[43mgateway_client\u001b[49m\u001b[43m,\u001b[49m\u001b[43m \u001b[49m\u001b[38;5;28;43mself\u001b[39;49m\u001b[38;5;241;43m.\u001b[39;49m\u001b[43mtarget_id\u001b[49m\u001b[43m,\u001b[49m\u001b[43m \u001b[49m\u001b[38;5;28;43mself\u001b[39;49m\u001b[38;5;241;43m.\u001b[39;49m\u001b[43mname\u001b[49m\u001b[43m)\u001b[49m\n\u001b[1;32m   1324\u001b[0m \u001b[38;5;28;01mfor\u001b[39;00m temp_arg \u001b[38;5;129;01min\u001b[39;00m temp_args:\n\u001b[1;32m   1325\u001b[0m     temp_arg\u001b[38;5;241m.\u001b[39m_detach()\n",
      "File \u001b[0;32m~/.local/lib/python3.10/site-packages/pyspark/sql/utils.py:196\u001b[0m, in \u001b[0;36mcapture_sql_exception.<locals>.deco\u001b[0;34m(*a, **kw)\u001b[0m\n\u001b[1;32m    192\u001b[0m converted \u001b[38;5;241m=\u001b[39m convert_exception(e\u001b[38;5;241m.\u001b[39mjava_exception)\n\u001b[1;32m    193\u001b[0m \u001b[38;5;28;01mif\u001b[39;00m \u001b[38;5;129;01mnot\u001b[39;00m \u001b[38;5;28misinstance\u001b[39m(converted, UnknownException):\n\u001b[1;32m    194\u001b[0m     \u001b[38;5;66;03m# Hide where the exception came from that shows a non-Pythonic\u001b[39;00m\n\u001b[1;32m    195\u001b[0m     \u001b[38;5;66;03m# JVM exception message.\u001b[39;00m\n\u001b[0;32m--> 196\u001b[0m     \u001b[38;5;28;01mraise\u001b[39;00m converted \u001b[38;5;28;01mfrom\u001b[39;00m \u001b[38;5;28mNone\u001b[39m\n\u001b[1;32m    197\u001b[0m \u001b[38;5;28;01melse\u001b[39;00m:\n\u001b[1;32m    198\u001b[0m     \u001b[38;5;28;01mraise\u001b[39;00m\n",
      "\u001b[0;31mAnalysisException\u001b[0m: Table or view not found: local.db.experiment; line 1 pos 9;\n'DescribeRelation false, [col_name#6275, data_type#6276, comment#6277]\n+- 'UnresolvedTableOrView [local, db, experiment], DESCRIBE TABLE, true\n"
     ]
    }
   ],
   "source": [
    "# READ DATA FOR 2023\n",
    "csv_df_e4_2023 = spark.read.format(\"csv\").option(\"header\", \"true\").load(\"../datasets/experiment2/df_open_2023_small_new_col.csv\")\n",
    "csv_df_e4_2023.show()\n",
    "\n",
    "csv_df_e4_2023.writeTo(\"local.db.experiment4\").option(\"mergeSchema\",\"true\").append()\n",
    "\n",
    "\n",
    "## QUERY THE ICEBERG TABLE\n",
    "spark.sql(\"SELECT count(*) FROM local.db.experiment4\").show()\n",
    "spark.sql(\"SELECT * FROM local.db.experiment4\").show()"
   ]
  },
  {
   "cell_type": "code",
   "execution_count": 36,
   "id": "94200a3a",
   "metadata": {},
   "outputs": [
    {
     "name": "stderr",
     "output_type": "stream",
     "text": [
      "                                                                                \r"
     ]
    },
    {
     "name": "stdout",
     "output_type": "stream",
     "text": [
      "+------------+-----------------+---------+-----------+------+------+-------------------+-------------------+--------+------------------+-----------+--------------------+---+------+------+-----------+------------+--------+----+--------------------+\n",
      "|competitorId|   competitorName|firstName|   lastName|status|gender|countryOfOriginCode|countryOfOriginName|regionId|        regionName|affiliateId|       affiliateName|age|height|weight|overallRank|overallScore|genderId|year|          aNewColumn|\n",
      "+------------+-----------------+---------+-----------+------+------+-------------------+-------------------+--------+------------------+-----------+--------------------+---+------+------+-----------+------------+--------+----+--------------------+\n",
      "|      469656|    Jeffrey Adler|  Jeffrey|      Adler|   ACT|     M|                 CA|             Canada|      35|North America East|      18059| CrossFit Wonderland| 29| 69 in|197 lb|          1|         107|       1|2023|thisIsANewColumn_...|\n",
      "|      300638|   Tola Morakinyo|     Tola|  Morakinyo|   ACT|     M|                 US|      United States|      35|North America East|      19593|CrossFit East Nas...| 27| 72 in|212 lb|          2|         219|       1|2023|thisIsANewColumn_...|\n",
      "|      676693|   Colten Mertens|   Colten|    Mertens|   ACT|     M|                 US|      United States|      34|North America West|       1324|       CrossFit Kilo| 25| 64 in|180 lb|          3|         367|       1|2023|thisIsANewColumn_...|\n",
      "|      663689|Tyler Christophel|    Tyler|Christophel|   ACT|     M|                 US|      United States|      35|North America East|       3220|     CrossFit Mayhem| 33| 70 in|195 lb|          4|         375|       1|2023|thisIsANewColumn_...|\n",
      "|     1031875|  Roldan Goldbaum|   Roldan|   Goldbaum|   ACT|     M|                 MX|             Mexico|      34|North America West|      21264|Strong Suit CrossFit| 23|170 cm| 86 kg|          5|         526|       1|2023|thisIsANewColumn_...|\n",
      "|      327636| Samuel Cournoyer|   Samuel|  Cournoyer|   ACT|     M|                 CA|             Canada|      35|North America East|      28908|CrossFit ADM Chambly| 27|180 cm|205 lb|          6|         619|       1|2023|thisIsANewColumn_...|\n",
      "|       40955|     Ricky Garard|    Ricky|     Garard|   ACT|     M|                 AU|          Australia|      32|           Oceania|       9286|Fitness Alley Cro...| 29|179 cm|205 lb|          7|         633|       1|2023|thisIsANewColumn_...|\n",
      "|      671093|    Dallin Pepper|   Dallin|     Pepper|   ACT|     M|                 US|      United States|      35|North America East|       1893|     CrossFit Naples| 21| 72 in|215 lb|          8|         656|       1|2023|thisIsANewColumn_...|\n",
      "|      945268|      Reggie Fasa|   Reggie|       Fasa|   ACT|     M|                 GB|     United Kingdom|      29|            Europe|      16754|CrossFit Chester ...| 28|174 cm| 93 kg|          9|         668|       1|2023|thisIsANewColumn_...|\n",
      "+------------+-----------------+---------+-----------+------+------+-------------------+-------------------+--------+------------------+-----------+--------------------+---+------+------+-----------+------------+--------+----+--------------------+\n",
      "\n"
     ]
    },
    {
     "name": "stderr",
     "output_type": "stream",
     "text": [
      "                                                                                \r"
     ]
    },
    {
     "name": "stdout",
     "output_type": "stream",
     "text": [
      "+--------+\n",
      "|count(1)|\n",
      "+--------+\n",
      "|      27|\n",
      "+--------+\n",
      "\n"
     ]
    },
    {
     "name": "stderr",
     "output_type": "stream",
     "text": [
      "                                                                                \r"
     ]
    },
    {
     "name": "stdout",
     "output_type": "stream",
     "text": [
      "+------------+-----------------+---------+-----------+------+------+-------------------+-------------------+--------+------------------+-----------+--------------------+---+------+------+-----------+------------+--------+----+--------------------+\n",
      "|competitorId|   competitorName|firstName|   lastName|status|gender|countryOfOriginCode|countryOfOriginName|regionId|        regionName|affiliateId|       affiliateName|age|height|weight|overallRank|overallScore|genderId|year|          aNewColumn|\n",
      "+------------+-----------------+---------+-----------+------+------+-------------------+-------------------+--------+------------------+-----------+--------------------+---+------+------+-----------+------------+--------+----+--------------------+\n",
      "|      310970|    Saxon Panchik|    Saxon|    Panchik|   ACT|     M|                 US|      United States|      31|     North America|      19593|CrossFit East Nas...| 26| 69 in|180 lb|          1|          25|       1|2022|                null|\n",
      "|     1454081|      Matt Poulin|     Matt|     Poulin|   ACT|     M|                 US|      United States|      31|     North America|       1526|   CrossFit Complete| 26| 70 in|195 lb|          2|          28|       1|2022|                null|\n",
      "|      811708|  Justin Medeiros|   Justin|   Medeiros|   ACT|     M|                 US|      United States|      31|     North America|       1792|CrossFit Fort Van...| 23| 68 in|190 lb|          3|          31|       1|2022|                null|\n",
      "|      676693|   Colten Mertens|   Colten|    Mertens|   ACT|     M|                 US|      United States|      31|     North America|       1324|       CrossFit Kilo| 24| 64 in|185 lb|          4|          35|       1|2022|                null|\n",
      "|      879211|        Phil Toon|     Phil|       Toon|   ACT|     M|                 US|      United States|      31|     North America|       1893|     CrossFit Naples| 24| 70 in|195 lb|          5|          38|       1|2022|                null|\n",
      "|      935580|  Victor Ljungdal|   Victor|   Ljungdal|   ACT|     M|                 SE|             Sweden|      29|            Europe|      26251|Mölndal SuperB Cr...| 26|172 cm| 85 kg|          6|          46|       1|2022|                null|\n",
      "|      156156|       Jay Crouch|      Jay|     Crouch|   ACT|     M|                 AU|          Australia|      32|           Oceania|       1348|Reebok CrossFit F...| 23|175 cm| 85 kg|          7|          53|       1|2022|                null|\n",
      "|      534247|     Scott Tetlow|    Scott|     Tetlow|   ACT|     M|                 US|      United States|      31|     North America|       1313|Finish Strong Cro...| 29| 63 in|175 lb|          8|          72|       1|2022|                null|\n",
      "|      493511|  Cédric Lapointe|   Cédric|   Lapointe|   ACT|     M|                 CA|             Canada|      31|     North America|      10570|        CrossFit 819| 25| 69 in|187 lb|          9|          85|       1|2022|                null|\n",
      "|      469656|    Jeffrey Adler|  Jeffrey|      Adler|   ACT|     M|                 CA|             Canada|      35|North America East|      18059| CrossFit Wonderland| 29| 69 in|197 lb|          1|         107|       1|2023|thisIsANewColumn_...|\n",
      "|      300638|   Tola Morakinyo|     Tola|  Morakinyo|   ACT|     M|                 US|      United States|      35|North America East|      19593|CrossFit East Nas...| 27| 72 in|212 lb|          2|         219|       1|2023|thisIsANewColumn_...|\n",
      "|      676693|   Colten Mertens|   Colten|    Mertens|   ACT|     M|                 US|      United States|      34|North America West|       1324|       CrossFit Kilo| 25| 64 in|180 lb|          3|         367|       1|2023|thisIsANewColumn_...|\n",
      "|      663689|Tyler Christophel|    Tyler|Christophel|   ACT|     M|                 US|      United States|      35|North America East|       3220|     CrossFit Mayhem| 33| 70 in|195 lb|          4|         375|       1|2023|thisIsANewColumn_...|\n",
      "|     1031875|  Roldan Goldbaum|   Roldan|   Goldbaum|   ACT|     M|                 MX|             Mexico|      34|North America West|      21264|Strong Suit CrossFit| 23|170 cm| 86 kg|          5|         526|       1|2023|thisIsANewColumn_...|\n",
      "|      327636| Samuel Cournoyer|   Samuel|  Cournoyer|   ACT|     M|                 CA|             Canada|      35|North America East|      28908|CrossFit ADM Chambly| 27|180 cm|205 lb|          6|         619|       1|2023|thisIsANewColumn_...|\n",
      "|       40955|     Ricky Garard|    Ricky|     Garard|   ACT|     M|                 AU|          Australia|      32|           Oceania|       9286|Fitness Alley Cro...| 29|179 cm|205 lb|          7|         633|       1|2023|thisIsANewColumn_...|\n",
      "|      671093|    Dallin Pepper|   Dallin|     Pepper|   ACT|     M|                 US|      United States|      35|North America East|       1893|     CrossFit Naples| 21| 72 in|215 lb|          8|         656|       1|2023|thisIsANewColumn_...|\n",
      "|      945268|      Reggie Fasa|   Reggie|       Fasa|   ACT|     M|                 GB|     United Kingdom|      29|            Europe|      16754|CrossFit Chester ...| 28|174 cm| 93 kg|          9|         668|       1|2023|thisIsANewColumn_...|\n",
      "|      469656|    Jeffrey Adler|  Jeffrey|      Adler|   ACT|     M|                 CA|             Canada|      35|North America East|      18059| CrossFit Wonderland| 29| 69 in|197 lb|          1|         107|       1|2023|thisIsANewColumn_...|\n",
      "|      300638|   Tola Morakinyo|     Tola|  Morakinyo|   ACT|     M|                 US|      United States|      35|North America East|      19593|CrossFit East Nas...| 27| 72 in|212 lb|          2|         219|       1|2023|thisIsANewColumn_...|\n",
      "+------------+-----------------+---------+-----------+------+------+-------------------+-------------------+--------+------------------+-----------+--------------------+---+------+------+-----------+------------+--------+----+--------------------+\n",
      "only showing top 20 rows\n",
      "\n",
      "+-------------------+---------+-------+\n",
      "|           col_name|data_type|comment|\n",
      "+-------------------+---------+-------+\n",
      "|       competitorId|   string|       |\n",
      "|     competitorName|   string|       |\n",
      "|          firstName|   string|       |\n",
      "|           lastName|   string|       |\n",
      "|             status|   string|       |\n",
      "|             gender|   string|       |\n",
      "|countryOfOriginCode|   string|       |\n",
      "|countryOfOriginName|   string|       |\n",
      "|           regionId|   string|       |\n",
      "|         regionName|   string|       |\n",
      "|        affiliateId|   string|       |\n",
      "|      affiliateName|   string|       |\n",
      "|                age|   string|       |\n",
      "|             height|   string|       |\n",
      "|             weight|   string|       |\n",
      "|        overallRank|   string|       |\n",
      "|       overallScore|   string|       |\n",
      "|           genderId|   string|       |\n",
      "|               year|   string|       |\n",
      "|         aNewColumn|   string|       |\n",
      "+-------------------+---------+-------+\n",
      "only showing top 20 rows\n",
      "\n"
     ]
    }
   ],
   "source": [
    "# READ DATA FOR 2023\n",
    "csv_df_e4_2023 = spark.read.format(\"csv\").option(\"header\", \"true\").load(\"../datasets/experiment2/df_open_2023_small_new_col.csv\")\n",
    "csv_df_e4_2023.show()\n",
    "\n",
    "csv_df_e4_2023.writeTo(\"local.db.experiment4\").option(\"mergeSchema\",\"true\").append()\n",
    "\n",
    "\n",
    "## QUERY THE ICEBERG TABLE\n",
    "spark.sql(\"SELECT count(*) FROM local.db.experiment4\").show()\n",
    "spark.sql(\"SELECT * FROM local.db.experiment4\").show()\n",
    "spark.sql(\"DESCRIBE local.db.experiment4\").show()"
   ]
  },
  {
   "cell_type": "code",
   "execution_count": null,
   "id": "835bf239",
   "metadata": {},
   "outputs": [],
   "source": []
  }
 ],
 "metadata": {
  "kernelspec": {
   "display_name": "Python 3 (ipykernel)",
   "language": "python",
   "name": "python3"
  },
  "language_info": {
   "codemirror_mode": {
    "name": "ipython",
    "version": 3
   },
   "file_extension": ".py",
   "mimetype": "text/x-python",
   "name": "python",
   "nbconvert_exporter": "python",
   "pygments_lexer": "ipython3",
   "version": "3.10.6"
  }
 },
 "nbformat": 4,
 "nbformat_minor": 5
}
